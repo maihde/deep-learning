{
 "cells": [
  {
   "cell_type": "markdown",
   "metadata": {
    "deletable": true,
    "editable": true
   },
   "source": [
    "<h1 align=\"center\">TensorFlow Neural Network Lab</h1>"
   ]
  },
  {
   "cell_type": "markdown",
   "metadata": {
    "deletable": true,
    "editable": true
   },
   "source": [
    "<img src=\"image/notmnist.png\">\n",
    "In this lab, you'll use all the tools you learned from *Introduction to TensorFlow* to label images of English letters! The data you are using, <a href=\"http://yaroslavvb.blogspot.com/2011/09/notmnist-dataset.html\">notMNIST</a>, consists of images of a letter from A to J in different fonts.\n",
    "\n",
    "The above images are a few examples of the data you'll be training on. After training the network, you will compare your prediction model against test data. Your goal, by the end of this lab, is to make predictions against that test set with at least an 80% accuracy. Let's jump in!"
   ]
  },
  {
   "cell_type": "markdown",
   "metadata": {
    "deletable": true,
    "editable": true
   },
   "source": [
    "To start this lab, you first need to import all the necessary modules. Run the code below. If it runs successfully, it will print \"`All modules imported`\"."
   ]
  },
  {
   "cell_type": "code",
   "execution_count": 1,
   "metadata": {
    "collapsed": false,
    "deletable": true,
    "editable": true
   },
   "outputs": [
    {
     "name": "stdout",
     "output_type": "stream",
     "text": [
      "All modules imported.\n"
     ]
    }
   ],
   "source": [
    "import hashlib\n",
    "import os\n",
    "import pickle\n",
    "from urllib.request import urlretrieve\n",
    "\n",
    "import numpy as np\n",
    "from PIL import Image\n",
    "from sklearn.model_selection import train_test_split\n",
    "from sklearn.preprocessing import LabelBinarizer\n",
    "from sklearn.utils import resample\n",
    "from tqdm import tqdm\n",
    "from zipfile import ZipFile\n",
    "\n",
    "print('All modules imported.')"
   ]
  },
  {
   "cell_type": "markdown",
   "metadata": {
    "deletable": true,
    "editable": true
   },
   "source": [
    "The notMNIST dataset is too large for many computers to handle.  It contains 500,000 images for just training.  You'll be using a subset of this data, 15,000 images for each label (A-J)."
   ]
  },
  {
   "cell_type": "code",
   "execution_count": 2,
   "metadata": {
    "collapsed": false,
    "deletable": true,
    "editable": true
   },
   "outputs": [
    {
     "name": "stdout",
     "output_type": "stream",
     "text": [
      "Downloading notMNIST_train.zip...\n",
      "Download Finished\n",
      "Downloading notMNIST_test.zip...\n",
      "Download Finished\n",
      "All files downloaded.\n"
     ]
    }
   ],
   "source": [
    "def download(url, file):\n",
    "    \"\"\"\n",
    "    Download file from <url>\n",
    "    :param url: URL to file\n",
    "    :param file: Local file path\n",
    "    \"\"\"\n",
    "    if not os.path.isfile(file):\n",
    "        print('Downloading ' + file + '...')\n",
    "        urlretrieve(url, file)\n",
    "        print('Download Finished')\n",
    "\n",
    "# Download the training and test dataset.\n",
    "download('https://s3.amazonaws.com/udacity-sdc/notMNIST_train.zip', 'notMNIST_train.zip')\n",
    "download('https://s3.amazonaws.com/udacity-sdc/notMNIST_test.zip', 'notMNIST_test.zip')\n",
    "\n",
    "# Make sure the files aren't corrupted\n",
    "assert hashlib.md5(open('notMNIST_train.zip', 'rb').read()).hexdigest() == 'c8673b3f28f489e9cdf3a3d74e2ac8fa',\\\n",
    "        'notMNIST_train.zip file is corrupted.  Remove the file and try again.'\n",
    "assert hashlib.md5(open('notMNIST_test.zip', 'rb').read()).hexdigest() == '5d3c7e653e63471c88df796156a9dfa9',\\\n",
    "        'notMNIST_test.zip file is corrupted.  Remove the file and try again.'\n",
    "\n",
    "# Wait until you see that all files have been downloaded.\n",
    "print('All files downloaded.')"
   ]
  },
  {
   "cell_type": "code",
   "execution_count": 3,
   "metadata": {
    "collapsed": false,
    "deletable": true,
    "editable": true
   },
   "outputs": [
    {
     "name": "stderr",
     "output_type": "stream",
     "text": [
      "100%|██████████| 210001/210001 [01:02<00:00, 3382.87files/s]\n",
      "100%|██████████| 10001/10001 [00:02<00:00, 4071.57files/s]\n"
     ]
    },
    {
     "name": "stdout",
     "output_type": "stream",
     "text": [
      "All features and labels uncompressed.\n"
     ]
    }
   ],
   "source": [
    "def uncompress_features_labels(file):\n",
    "    \"\"\"\n",
    "    Uncompress features and labels from a zip file\n",
    "    :param file: The zip file to extract the data from\n",
    "    \"\"\"\n",
    "    features = []\n",
    "    labels = []\n",
    "\n",
    "    with ZipFile(file) as zipf:\n",
    "        # Progress Bar\n",
    "        filenames_pbar = tqdm(zipf.namelist(), unit='files')\n",
    "        \n",
    "        # Get features and labels from all files\n",
    "        for filename in filenames_pbar:\n",
    "            # Check if the file is a directory\n",
    "            if not filename.endswith('/'):\n",
    "                with zipf.open(filename) as image_file:\n",
    "                    image = Image.open(image_file)\n",
    "                    image.load()\n",
    "                    # Load image data as 1 dimensional array\n",
    "                    # We're using float32 to save on memory space\n",
    "                    feature = np.array(image, dtype=np.float32).flatten()\n",
    "\n",
    "                # Get the the letter from the filename.  This is the letter of the image.\n",
    "                label = os.path.split(filename)[1][0]\n",
    "\n",
    "                features.append(feature)\n",
    "                labels.append(label)\n",
    "    return np.array(features), np.array(labels)\n",
    "\n",
    "# Get the features and labels from the zip files\n",
    "train_features, train_labels = uncompress_features_labels('notMNIST_train.zip')\n",
    "test_features, test_labels = uncompress_features_labels('notMNIST_test.zip')\n",
    "\n",
    "# Limit the amount of data to work with a docker container\n",
    "docker_size_limit = 150000\n",
    "train_features, train_labels = resample(train_features, train_labels, n_samples=docker_size_limit)\n",
    "\n",
    "# Set flags for feature engineering.  This will prevent you from skipping an important step.\n",
    "is_features_normal = False\n",
    "is_labels_encod = False\n",
    "\n",
    "# Wait until you see that all features and labels have been uncompressed.\n",
    "print('All features and labels uncompressed.')"
   ]
  },
  {
   "cell_type": "markdown",
   "metadata": {
    "deletable": true,
    "editable": true
   },
   "source": [
    "<img src=\"image/Mean Variance - Image.png\" style=\"height: 75%;width: 75%; position: relative; right: 5%\">\n",
    "## Problem 1\n",
    "The first problem involves normalizing the features for your training and test data.\n",
    "\n",
    "Implement Min-Max scaling in the `normalize_grayscale()` function to a range of `a=0.1` and `b=0.9`. After scaling, the values of the pixels in the input data should range from 0.1 to 0.9.\n",
    "\n",
    "Since the raw notMNIST image data is in [grayscale](https://en.wikipedia.org/wiki/Grayscale), the current values range from a min of 0 to a max of 255.\n",
    "\n",
    "Min-Max Scaling:\n",
    "$\n",
    "X'=a+{\\frac {\\left(X-X_{\\min }\\right)\\left(b-a\\right)}{X_{\\max }-X_{\\min }}}\n",
    "$\n",
    "\n",
    "*If you're having trouble solving problem 1, you can view the solution [here](https://github.com/udacity/deep-learning/blob/master/intro-to-tensorFlow/intro_to_tensorflow_solution.ipynb).*"
   ]
  },
  {
   "cell_type": "code",
   "execution_count": 4,
   "metadata": {
    "collapsed": false,
    "deletable": true,
    "editable": true
   },
   "outputs": [
    {
     "name": "stdout",
     "output_type": "stream",
     "text": [
      "Tests Passed!\n"
     ]
    }
   ],
   "source": [
    "# Problem 1 - Implement Min-Max scaling for grayscale image data\n",
    "def normalize_grayscale(image_data):\n",
    "    \"\"\"\n",
    "    Normalize the image data with Min-Max scaling to a range of [0.1, 0.9]\n",
    "    :param image_data: The image data to be normalized\n",
    "    :return: Normalized image data\n",
    "    \"\"\"\n",
    "    a = 0.1\n",
    "    b = 0.9\n",
    "    x_min = np.amin(image_data)\n",
    "    x_max = np.amax(image_data)\n",
    "    X = 0.1 + (((image_data - x_min) * (b-a)) / (x_max - x_min))\n",
    "    return X\n",
    "\n",
    "### DON'T MODIFY ANYTHING BELOW ###\n",
    "# Test Cases\n",
    "np.testing.assert_array_almost_equal(\n",
    "    normalize_grayscale(np.array([0, 1, 2, 3, 4, 5, 6, 7, 8, 9, 10, 255])),\n",
    "    [0.1, 0.103137254902, 0.106274509804, 0.109411764706, 0.112549019608, 0.11568627451, 0.118823529412, 0.121960784314,\n",
    "     0.125098039216, 0.128235294118, 0.13137254902, 0.9],\n",
    "    decimal=3)\n",
    "np.testing.assert_array_almost_equal(\n",
    "    normalize_grayscale(np.array([0, 1, 10, 20, 30, 40, 233, 244, 254,255])),\n",
    "    [0.1, 0.103137254902, 0.13137254902, 0.162745098039, 0.194117647059, 0.225490196078, 0.830980392157, 0.865490196078,\n",
    "     0.896862745098, 0.9])\n",
    "\n",
    "if not is_features_normal:\n",
    "    train_features = normalize_grayscale(train_features)\n",
    "    test_features = normalize_grayscale(test_features)\n",
    "    is_features_normal = True\n",
    "\n",
    "print('Tests Passed!')"
   ]
  },
  {
   "cell_type": "code",
   "execution_count": 5,
   "metadata": {
    "collapsed": false,
    "deletable": true,
    "editable": true
   },
   "outputs": [
    {
     "name": "stdout",
     "output_type": "stream",
     "text": [
      "Labels One-Hot Encoded\n"
     ]
    }
   ],
   "source": [
    "if not is_labels_encod:\n",
    "    # Turn labels into numbers and apply One-Hot Encoding\n",
    "    encoder = LabelBinarizer()\n",
    "    encoder.fit(train_labels)\n",
    "    train_labels = encoder.transform(train_labels)\n",
    "    test_labels = encoder.transform(test_labels)\n",
    "\n",
    "    # Change to float32, so it can be multiplied against the features in TensorFlow, which are float32\n",
    "    train_labels = train_labels.astype(np.float32)\n",
    "    test_labels = test_labels.astype(np.float32)\n",
    "    is_labels_encod = True\n",
    "\n",
    "print('Labels One-Hot Encoded')"
   ]
  },
  {
   "cell_type": "code",
   "execution_count": 6,
   "metadata": {
    "collapsed": false,
    "deletable": true,
    "editable": true
   },
   "outputs": [
    {
     "name": "stdout",
     "output_type": "stream",
     "text": [
      "Training features and labels randomized and split.\n"
     ]
    }
   ],
   "source": [
    "assert is_features_normal, 'You skipped the step to normalize the features'\n",
    "assert is_labels_encod, 'You skipped the step to One-Hot Encode the labels'\n",
    "\n",
    "# Get randomized datasets for training and validation\n",
    "train_features, valid_features, train_labels, valid_labels = train_test_split(\n",
    "    train_features,\n",
    "    train_labels,\n",
    "    test_size=0.05,\n",
    "    random_state=832289)\n",
    "\n",
    "print('Training features and labels randomized and split.')"
   ]
  },
  {
   "cell_type": "code",
   "execution_count": 7,
   "metadata": {
    "collapsed": false,
    "deletable": true,
    "editable": true
   },
   "outputs": [
    {
     "name": "stdout",
     "output_type": "stream",
     "text": [
      "Saving data to pickle file...\n",
      "Data cached in pickle file.\n"
     ]
    }
   ],
   "source": [
    "# Save the data for easy access\n",
    "pickle_file = 'notMNIST.pickle'\n",
    "if not os.path.isfile(pickle_file):\n",
    "    print('Saving data to pickle file...')\n",
    "    try:\n",
    "        with open('notMNIST.pickle', 'wb') as pfile:\n",
    "            pickle.dump(\n",
    "                {\n",
    "                    'train_dataset': train_features,\n",
    "                    'train_labels': train_labels,\n",
    "                    'valid_dataset': valid_features,\n",
    "                    'valid_labels': valid_labels,\n",
    "                    'test_dataset': test_features,\n",
    "                    'test_labels': test_labels,\n",
    "                },\n",
    "                pfile, pickle.HIGHEST_PROTOCOL)\n",
    "    except Exception as e:\n",
    "        print('Unable to save data to', pickle_file, ':', e)\n",
    "        raise\n",
    "\n",
    "print('Data cached in pickle file.')"
   ]
  },
  {
   "cell_type": "markdown",
   "metadata": {
    "deletable": true,
    "editable": true
   },
   "source": [
    "# Checkpoint\n",
    "All your progress is now saved to the pickle file.  If you need to leave and comeback to this lab, you no longer have to start from the beginning.  Just run the code block below and it will load all the data and modules required to proceed."
   ]
  },
  {
   "cell_type": "code",
   "execution_count": 8,
   "metadata": {
    "collapsed": false,
    "deletable": true,
    "editable": true
   },
   "outputs": [
    {
     "name": "stdout",
     "output_type": "stream",
     "text": [
      "Data and modules loaded.\n"
     ]
    }
   ],
   "source": [
    "%matplotlib inline\n",
    "\n",
    "# Load the modules\n",
    "import pickle\n",
    "import math\n",
    "\n",
    "import numpy as np\n",
    "import tensorflow as tf\n",
    "from tqdm import tqdm\n",
    "import matplotlib.pyplot as plt\n",
    "\n",
    "# Reload the data\n",
    "pickle_file = 'notMNIST.pickle'\n",
    "with open(pickle_file, 'rb') as f:\n",
    "  pickle_data = pickle.load(f)\n",
    "  train_features = pickle_data['train_dataset']\n",
    "  train_labels = pickle_data['train_labels']\n",
    "  valid_features = pickle_data['valid_dataset']\n",
    "  valid_labels = pickle_data['valid_labels']\n",
    "  test_features = pickle_data['test_dataset']\n",
    "  test_labels = pickle_data['test_labels']\n",
    "  del pickle_data  # Free up memory\n",
    "\n",
    "print('Data and modules loaded.')"
   ]
  },
  {
   "cell_type": "markdown",
   "metadata": {
    "deletable": true,
    "editable": true
   },
   "source": [
    "\n",
    "## Problem 2\n",
    "\n",
    "Now it's time to build a simple neural network using TensorFlow. Here, your network will be just an input layer and an output layer.\n",
    "\n",
    "<img src=\"image/network_diagram.png\" style=\"height: 40%;width: 40%; position: relative; right: 10%\">\n",
    "\n",
    "For the input here the images have been flattened into a vector of $28 \\times 28 = 784$ features. Then, we're trying to predict the image digit so there are 10 output units, one for each label. Of course, feel free to add hidden layers if you want, but this notebook is built to guide you through a single layer network. \n",
    "\n",
    "For the neural network to train on your data, you need the following <a href=\"https://www.tensorflow.org/resources/dims_types.html#data-types\">float32</a> tensors:\n",
    " - `features`\n",
    "  - Placeholder tensor for feature data (`train_features`/`valid_features`/`test_features`)\n",
    " - `labels`\n",
    "  - Placeholder tensor for label data (`train_labels`/`valid_labels`/`test_labels`)\n",
    " - `weights`\n",
    "  - Variable Tensor with random numbers from a truncated normal distribution.\n",
    "    - See <a href=\"https://www.tensorflow.org/api_docs/python/constant_op.html#truncated_normal\">`tf.truncated_normal()` documentation</a> for help.\n",
    " - `biases`\n",
    "  - Variable Tensor with all zeros.\n",
    "    - See <a href=\"https://www.tensorflow.org/api_docs/python/constant_op.html#zeros\"> `tf.zeros()` documentation</a> for help.\n",
    "\n",
    "*If you're having trouble solving problem 2, review \"TensorFlow Linear Function\" section of the class.  If that doesn't help, the solution for this problem is available [here](intro_to_tensorflow_solution.ipynb).*"
   ]
  },
  {
   "cell_type": "code",
   "execution_count": 13,
   "metadata": {
    "collapsed": false,
    "deletable": true,
    "editable": true
   },
   "outputs": [
    {
     "name": "stdout",
     "output_type": "stream",
     "text": [
      "784 10\n",
      "Tests Passed!\n"
     ]
    }
   ],
   "source": [
    "# All the pixels in the image (28 * 28 = 784)\n",
    "features_count = 784\n",
    "# All the labels\n",
    "labels_count = 10\n",
    "\n",
    "# TODO: Set the features and labels tensors\n",
    "features = tf.placeholder(tf.float32) \n",
    "labels = tf.placeholder(tf.float32)\n",
    "\n",
    "# TODO: Set the weights and biases tensors\n",
    "print(features_count, labels_count)\n",
    "weights = tf.Variable(tf.truncated_normal((features_count, labels_count)))\n",
    "biases = tf.Variable(tf.zeros(labels_count)) \n",
    "\n",
    "\n",
    "\n",
    "### DON'T MODIFY ANYTHING BELOW ###\n",
    "\n",
    "#Test Cases\n",
    "from tensorflow.python.ops.variables import Variable\n",
    "\n",
    "assert features._op.name.startswith('Placeholder'), 'features must be a placeholder'\n",
    "assert labels._op.name.startswith('Placeholder'), 'labels must be a placeholder'\n",
    "assert isinstance(weights, Variable), 'weights must be a TensorFlow variable'\n",
    "assert isinstance(biases, Variable), 'biases must be a TensorFlow variable'\n",
    "\n",
    "assert features._shape == None or (\\\n",
    "    features._shape.dims[0].value is None and\\\n",
    "    features._shape.dims[1].value in [None, 784]), 'The shape of features is incorrect'\n",
    "assert labels._shape  == None or (\\\n",
    "    labels._shape.dims[0].value is None and\\\n",
    "    labels._shape.dims[1].value in [None, 10]), 'The shape of labels is incorrect'\n",
    "assert weights._variable._shape == (784, 10), 'The shape of weights is incorrect'\n",
    "assert biases._variable._shape == (10), 'The shape of biases is incorrect'\n",
    "\n",
    "assert features._dtype == tf.float32, 'features must be type float32'\n",
    "assert labels._dtype == tf.float32, 'labels must be type float32'\n",
    "\n",
    "# Feed dicts for training, validation, and test session\n",
    "train_feed_dict = {features: train_features, labels: train_labels}\n",
    "valid_feed_dict = {features: valid_features, labels: valid_labels}\n",
    "test_feed_dict = {features: test_features, labels: test_labels}\n",
    "\n",
    "# Linear Function WX + b\n",
    "logits = tf.matmul(features, weights) + biases\n",
    "\n",
    "prediction = tf.nn.softmax(logits)\n",
    "\n",
    "# Cross entropy\n",
    "cross_entropy = -tf.reduce_sum(labels * tf.log(prediction), reduction_indices=1)\n",
    "\n",
    "# Training loss\n",
    "loss = tf.reduce_mean(cross_entropy)\n",
    "\n",
    "# Create an operation that initializes all variables\n",
    "init = tf.global_variables_initializer()\n",
    "\n",
    "# Test Cases\n",
    "with tf.Session() as session:\n",
    "    session.run(init)\n",
    "    session.run(loss, feed_dict=train_feed_dict)\n",
    "    session.run(loss, feed_dict=valid_feed_dict)\n",
    "    session.run(loss, feed_dict=test_feed_dict)\n",
    "    biases_data = session.run(biases)\n",
    "\n",
    "assert not np.count_nonzero(biases_data), 'biases must be zeros'\n",
    "\n",
    "print('Tests Passed!')"
   ]
  },
  {
   "cell_type": "code",
   "execution_count": 14,
   "metadata": {
    "collapsed": false,
    "deletable": true,
    "editable": true
   },
   "outputs": [
    {
     "name": "stdout",
     "output_type": "stream",
     "text": [
      "Accuracy function created.\n"
     ]
    }
   ],
   "source": [
    "# Determine if the predictions are correct\n",
    "is_correct_prediction = tf.equal(tf.argmax(prediction, 1), tf.argmax(labels, 1))\n",
    "# Calculate the accuracy of the predictions\n",
    "accuracy = tf.reduce_mean(tf.cast(is_correct_prediction, tf.float32))\n",
    "\n",
    "print('Accuracy function created.')"
   ]
  },
  {
   "cell_type": "markdown",
   "metadata": {
    "deletable": true,
    "editable": true
   },
   "source": [
    "<img src=\"image/Learn Rate Tune - Image.png\" style=\"height: 70%;width: 70%\">\n",
    "## Problem 3\n",
    "Below are 2 parameter configurations for training the neural network. In each configuration, one of the parameters has multiple options. For each configuration, choose the option that gives the best acccuracy.\n",
    "\n",
    "Parameter configurations:\n",
    "\n",
    "Configuration 1\n",
    "* **Epochs:** 1\n",
    "* **Learning Rate:**\n",
    "  * 0.8\n",
    "  * 0.5\n",
    "  * 0.1\n",
    "  * 0.05\n",
    "  * 0.01\n",
    "\n",
    "Configuration 2\n",
    "* **Epochs:**\n",
    "  * 1\n",
    "  * 2\n",
    "  * 3\n",
    "  * 4\n",
    "  * 5\n",
    "* **Learning Rate:** 0.2\n",
    "\n",
    "The code will print out a Loss and Accuracy graph, so you can see how well the neural network performed.\n",
    "\n",
    "*If you're having trouble solving problem 3, you can view the solution [here](intro_to_tensorflow_solution.ipynb).*"
   ]
  },
  {
   "cell_type": "code",
   "execution_count": 23,
   "metadata": {
    "collapsed": false,
    "deletable": true,
    "editable": true
   },
   "outputs": [],
   "source": [
    "def train(epochs, learning_rate, batch_size=128):\n",
    "\n",
    "    ### DON'T MODIFY ANYTHING BELOW ###\n",
    "    # Gradient Descent\n",
    "    optimizer = tf.train.GradientDescentOptimizer(learning_rate).minimize(loss)    \n",
    "\n",
    "    # The accuracy measured against the validation set\n",
    "    validation_accuracy = 0.0\n",
    "\n",
    "    # Measurements use for graphing loss and accuracy\n",
    "    log_batch_step = 50\n",
    "    batches = []\n",
    "    loss_batch = []\n",
    "    train_acc_batch = []\n",
    "    valid_acc_batch = []\n",
    "\n",
    "    with tf.Session() as session:\n",
    "        session.run(init)\n",
    "        batch_count = int(math.ceil(len(train_features)/batch_size))\n",
    "\n",
    "        for epoch_i in range(epochs):\n",
    "\n",
    "            # Progress bar\n",
    "            batches_pbar = tqdm(range(batch_count), desc='Epoch {:>2}/{}'.format(epoch_i+1, epochs), unit='batches')\n",
    "\n",
    "            # The training cycle\n",
    "            for batch_i in batches_pbar:\n",
    "                # Get a batch of training features and labels\n",
    "                batch_start = batch_i*batch_size\n",
    "                batch_features = train_features[batch_start:batch_start + batch_size]\n",
    "                batch_labels = train_labels[batch_start:batch_start + batch_size]\n",
    "\n",
    "                # Run optimizer and get loss\n",
    "                _, l = session.run(\n",
    "                    [optimizer, loss],\n",
    "                    feed_dict={features: batch_features, labels: batch_labels})\n",
    "\n",
    "                # Log every 50 batches\n",
    "                if not batch_i % log_batch_step:\n",
    "                    # Calculate Training and Validation accuracy\n",
    "                    training_accuracy = session.run(accuracy, feed_dict=train_feed_dict)\n",
    "                    validation_accuracy = session.run(accuracy, feed_dict=valid_feed_dict)\n",
    "\n",
    "                    # Log batches\n",
    "                    previous_batch = batches[-1] if batches else 0\n",
    "                    batches.append(log_batch_step + previous_batch)\n",
    "                    loss_batch.append(l)\n",
    "                    train_acc_batch.append(training_accuracy)\n",
    "                    valid_acc_batch.append(validation_accuracy)\n",
    "\n",
    "            # Check accuracy against Validation data\n",
    "            validation_accuracy = session.run(accuracy, feed_dict=valid_feed_dict)\n",
    "\n",
    "    loss_plot = plt.subplot(211)\n",
    "    loss_plot.set_title('Loss')\n",
    "    loss_plot.plot(batches, loss_batch, 'g')\n",
    "    loss_plot.set_xlim([batches[0], batches[-1]])\n",
    "    acc_plot = plt.subplot(212)\n",
    "    acc_plot.set_title('Accuracy')\n",
    "    acc_plot.plot(batches, train_acc_batch, 'r', label='Training Accuracy')\n",
    "    acc_plot.plot(batches, valid_acc_batch, 'x', label='Validation Accuracy')\n",
    "    acc_plot.set_ylim([0, 1.0])\n",
    "    acc_plot.set_xlim([batches[0], batches[-1]])\n",
    "    acc_plot.legend(loc=4)\n",
    "    plt.tight_layout()\n",
    "    plt.show()\n",
    "\n",
    "    print('Validation accuracy at {}'.format(validation_accuracy))\n",
    "    return optimizer"
   ]
  },
  {
   "cell_type": "code",
   "execution_count": 22,
   "metadata": {
    "collapsed": false
   },
   "outputs": [
    {
     "name": "stderr",
     "output_type": "stream",
     "text": [
      "Epochs: 1 Learning Rate: 0.8\n",
      "\n",
      "Epoch  1/1:   9%|▉         | 101/1114 [00:20<03:21,  5.02batches/s]\n",
      "Epoch  1/1:   0%|          | 1/1114 [00:00<06:31,  2.84batches/s]\u001b[A\n",
      "Epoch  1/1:   5%|▍         | 51/1114 [00:00<04:24,  4.02batches/s]\u001b[A\n",
      "Epoch  1/1:   9%|▉         | 101/1114 [00:01<02:59,  5.65batches/s]\u001b[A\n",
      "Epoch  1/1:  14%|█▎        | 151/1114 [00:01<02:01,  7.91batches/s]\u001b[A\n",
      "Epoch  1/1:  18%|█▊        | 201/1114 [00:02<01:23, 10.98batches/s]\u001b[A\n",
      "Epoch  1/1:  23%|██▎       | 251/1114 [00:02<00:57, 15.07batches/s]\u001b[A\n",
      "Epoch  1/1:  27%|██▋       | 301/1114 [00:02<00:39, 20.39batches/s]\u001b[A\n",
      "Epoch  1/1:  32%|███▏      | 351/1114 [00:03<00:28, 27.07batches/s]\u001b[A\n",
      "Epoch  1/1:  36%|███▌      | 401/1114 [00:03<00:20, 35.14batches/s]\u001b[A\n",
      "Epoch  1/1:  40%|████      | 451/1114 [00:04<00:14, 44.43batches/s]\u001b[A\n",
      "Epoch  1/1:  45%|████▍     | 501/1114 [00:04<00:11, 54.41batches/s]\u001b[A\n",
      "Epoch  1/1:  49%|████▉     | 551/1114 [00:05<00:08, 64.71batches/s]\u001b[A\n",
      "Epoch  1/1:  54%|█████▍    | 601/1114 [00:05<00:06, 75.01batches/s]\u001b[A\n",
      "Epoch  1/1:  58%|█████▊    | 651/1114 [00:05<00:05, 84.02batches/s]\u001b[A\n",
      "Epoch  1/1:  63%|██████▎   | 701/1114 [00:06<00:04, 91.40batches/s]\u001b[A\n",
      "Epoch  1/1:  67%|██████▋   | 751/1114 [00:06<00:03, 97.29batches/s]\u001b[A\n",
      "Epoch  1/1:  72%|███████▏  | 801/1114 [00:07<00:03, 101.78batches/s]\u001b[A\n",
      "Epoch  1/1:  76%|███████▋  | 851/1114 [00:07<00:02, 105.34batches/s]\u001b[A\n",
      "Epoch  1/1:  81%|████████  | 901/1114 [00:08<00:01, 108.25batches/s]\u001b[A\n",
      "Epoch  1/1:  85%|████████▌ | 951/1114 [00:08<00:01, 109.80batches/s]\u001b[A\n",
      "Epoch  1/1:  90%|████████▉ | 1001/1114 [00:09<00:01, 111.51batches/s]\u001b[A\n",
      "Epoch  1/1:  94%|█████████▍| 1051/1114 [00:09<00:00, 113.09batches/s]\u001b[A\n",
      "Epoch  1/1:  99%|█████████▉| 1101/1114 [00:09<00:00, 114.58batches/s]\u001b[A\n",
      "Epoch  1/1: 100%|██████████| 1114/1114 [00:09<00:00, 112.52batches/s]\u001b[A"
     ]
    },
    {
     "data": {
      "image/png": "[encoded data removed]",
      "text/plain": [
       "<matplotlib.figure.Figure at 0x7f20ca032828>"
      ]
     },
     "metadata": {},
     "output_type": "display_data"
    },
    {
     "name": "stdout",
     "output_type": "stream",
     "text": [
      "Validation accuracy at 0.10079999268054962\n"
     ]
    },
    {
     "name": "stderr",
     "output_type": "stream",
     "text": [
      "Epochs: 1 Learning Rate: 0.5\n",
      "\n",
      "Epoch  1/1:   0%|          | 0/1114 [00:00<?, ?batches/s]\u001b[A\n",
      "Epoch  1/1:   0%|          | 1/1114 [00:00<06:17,  2.95batches/s]\u001b[A\n",
      "Epoch  1/1:   5%|▍         | 51/1114 [00:00<04:14,  4.17batches/s]\u001b[A\n",
      "Epoch  1/1:   9%|▉         | 101/1114 [00:01<02:52,  5.87batches/s]\u001b[A\n",
      "Epoch  1/1:  14%|█▎        | 151/1114 [00:01<01:57,  8.20batches/s]\u001b[A\n",
      "Epoch  1/1:  18%|█▊        | 201/1114 [00:02<01:20, 11.37batches/s]\u001b[A\n",
      "Epoch  1/1:  23%|██▎       | 251/1114 [00:02<00:55, 15.60batches/s]\u001b[A\n",
      "Epoch  1/1:  27%|██▋       | 301/1114 [00:02<00:38, 21.11batches/s]\u001b[A\n",
      "Epoch  1/1:  32%|███▏      | 351/1114 [00:03<00:27, 27.97batches/s]\u001b[A\n",
      "Epoch  1/1:  36%|███▌      | 401/1114 [00:03<00:19, 36.36batches/s]\u001b[A\n",
      "Epoch  1/1:  40%|████      | 451/1114 [00:04<00:14, 45.99batches/s]\u001b[A\n",
      "Epoch  1/1:  45%|████▍     | 501/1114 [00:04<00:10, 56.25batches/s]\u001b[A\n",
      "Epoch  1/1:  49%|████▉     | 551/1114 [00:05<00:08, 67.11batches/s]\u001b[A\n",
      "Epoch  1/1:  54%|█████▍    | 601/1114 [00:05<00:06, 77.00batches/s]\u001b[A\n",
      "Epoch  1/1:  58%|█████▊    | 651/1114 [00:05<00:05, 85.56batches/s]\u001b[A\n",
      "Epoch  1/1:  63%|██████▎   | 701/1114 [00:06<00:04, 94.53batches/s]\u001b[A\n",
      "Epoch  1/1:  67%|██████▋   | 751/1114 [00:06<00:03, 100.07batches/s]\u001b[A\n",
      "Epoch  1/1:  72%|███████▏  | 801/1114 [00:07<00:03, 104.26batches/s]\u001b[A\n",
      "Epoch  1/1:  76%|███████▋  | 851/1114 [00:07<00:02, 107.17batches/s]\u001b[A\n",
      "Epoch  1/1:  81%|████████  | 901/1114 [00:07<00:01, 110.17batches/s]\u001b[A\n",
      "Epoch  1/1:  85%|████████▌ | 951/1114 [00:08<00:01, 111.60batches/s]\u001b[A\n",
      "Epoch  1/1:  90%|████████▉ | 1001/1114 [00:08<00:01, 112.42batches/s]\u001b[A\n",
      "Epoch  1/1:  94%|█████████▍| 1051/1114 [00:09<00:00, 113.47batches/s]\u001b[A\n",
      "Epoch  1/1:  99%|█████████▉| 1101/1114 [00:09<00:00, 113.72batches/s]\u001b[A\n",
      "Epoch  1/1: 100%|██████████| 1114/1114 [00:09<00:00, 114.23batches/s]\u001b[A"
     ]
    },
    {
     "data": {
      "image/png": "[encoded data removed]",
      "text/plain": [
       "<matplotlib.figure.Figure at 0x7f20c8043400>"
      ]
     },
     "metadata": {},
     "output_type": "display_data"
    },
    {
     "name": "stdout",
     "output_type": "stream",
     "text": [
      "Validation accuracy at 0.6679999828338623\n"
     ]
    },
    {
     "name": "stderr",
     "output_type": "stream",
     "text": [
      "Epochs: 1 Learning Rate: 0.1\n",
      "\n",
      "Epoch  1/1:   0%|          | 0/1114 [00:00<?, ?batches/s]\u001b[A\n",
      "Epoch  1/1:   0%|          | 1/1114 [00:00<06:28,  2.86batches/s]\u001b[A\n",
      "Epoch  1/1:   5%|▍         | 51/1114 [00:00<04:22,  4.05batches/s]\u001b[A\n",
      "Epoch  1/1:   9%|▉         | 101/1114 [00:01<02:57,  5.69batches/s]\u001b[A\n",
      "Epoch  1/1:  14%|█▎        | 151/1114 [00:01<02:00,  7.96batches/s]\u001b[A\n",
      "Epoch  1/1:  18%|█▊        | 201/1114 [00:02<01:22, 11.05batches/s]\u001b[A\n",
      "Epoch  1/1:  23%|██▎       | 251/1114 [00:02<00:56, 15.17batches/s]\u001b[A\n",
      "Epoch  1/1:  27%|██▋       | 301/1114 [00:02<00:39, 20.52batches/s]\u001b[A\n",
      "Epoch  1/1:  32%|███▏      | 351/1114 [00:03<00:27, 27.27batches/s]\u001b[A\n",
      "Epoch  1/1:  36%|███▌      | 401/1114 [00:03<00:20, 35.47batches/s]\u001b[A\n",
      "Epoch  1/1:  40%|████      | 451/1114 [00:04<00:14, 44.81batches/s]\u001b[A\n",
      "Epoch  1/1:  45%|████▍     | 501/1114 [00:04<00:11, 54.97batches/s]\u001b[A\n",
      "Epoch  1/1:  49%|████▉     | 551/1114 [00:05<00:08, 65.26batches/s]\u001b[A\n",
      "Epoch  1/1:  54%|█████▍    | 601/1114 [00:05<00:06, 75.08batches/s]\u001b[A\n",
      "Epoch  1/1:  58%|█████▊    | 651/1114 [00:05<00:05, 84.09batches/s]\u001b[A\n",
      "Epoch  1/1:  63%|██████▎   | 701/1114 [00:06<00:04, 91.60batches/s]\u001b[A\n",
      "Epoch  1/1:  67%|██████▋   | 751/1114 [00:06<00:03, 98.45batches/s]\u001b[A\n",
      "Epoch  1/1:  72%|███████▏  | 801/1114 [00:07<00:03, 103.04batches/s]\u001b[A\n",
      "Epoch  1/1:  76%|███████▋  | 851/1114 [00:07<00:02, 106.95batches/s]\u001b[A\n",
      "Epoch  1/1:  81%|████████  | 901/1114 [00:08<00:01, 109.51batches/s]\u001b[A\n",
      "Epoch  1/1:  85%|████████▌ | 949/1114 [00:08<00:01, 142.34batches/s]\u001b[A\n",
      "Epoch  1/1:  87%|████████▋ | 972/1114 [00:08<00:01, 101.69batches/s]\u001b[A\n",
      "Epoch  1/1:  90%|████████▉ | 1001/1114 [00:08<00:01, 91.68batches/s]\u001b[A\n",
      "Epoch  1/1:  94%|█████████▍| 1051/1114 [00:09<00:00, 98.33batches/s]\u001b[A\n",
      "Epoch  1/1:  99%|█████████▉| 1101/1114 [00:09<00:00, 102.97batches/s]\u001b[A\n",
      "Epoch  1/1: 100%|██████████| 1114/1114 [00:09<00:00, 113.32batches/s]\u001b[A"
     ]
    },
    {
     "data": {
      "image/png": "[encoded data removed]",
      "text/plain": [
       "<matplotlib.figure.Figure at 0x7f20c81bd3c8>"
      ]
     },
     "metadata": {},
     "output_type": "display_data"
    },
    {
     "name": "stdout",
     "output_type": "stream",
     "text": [
      "Validation accuracy at 0.7337332963943481\n"
     ]
    },
    {
     "name": "stderr",
     "output_type": "stream",
     "text": [
      "Epochs: 1 Learning Rate: 0.05\n",
      "\n",
      "Epoch  1/1:   0%|          | 0/1114 [00:00<?, ?batches/s]\u001b[A\n",
      "Epoch  1/1:   0%|          | 1/1114 [00:00<06:32,  2.84batches/s]\u001b[A\n",
      "Epoch  1/1:   5%|▍         | 51/1114 [00:00<04:25,  4.01batches/s]\u001b[A\n",
      "Epoch  1/1:   9%|▉         | 101/1114 [00:01<02:59,  5.64batches/s]\u001b[A\n",
      "Epoch  1/1:  14%|█▎        | 151/1114 [00:01<02:01,  7.90batches/s]\u001b[A\n",
      "Epoch  1/1:  18%|█▊        | 201/1114 [00:02<01:23, 10.96batches/s]\u001b[A\n",
      "Epoch  1/1:  23%|██▎       | 251/1114 [00:02<00:57, 15.05batches/s]\u001b[A\n",
      "Epoch  1/1:  27%|██▋       | 301/1114 [00:02<00:39, 20.37batches/s]\u001b[A\n",
      "Epoch  1/1:  32%|███▏      | 351/1114 [00:03<00:28, 27.07batches/s]\u001b[A\n",
      "Epoch  1/1:  36%|███▌      | 401/1114 [00:03<00:20, 35.25batches/s]\u001b[A\n",
      "Epoch  1/1:  40%|████      | 451/1114 [00:04<00:14, 44.51batches/s]\u001b[A\n",
      "Epoch  1/1:  45%|████▍     | 501/1114 [00:04<00:11, 54.54batches/s]\u001b[A\n",
      "Epoch  1/1:  49%|████▉     | 551/1114 [00:05<00:08, 64.73batches/s]\u001b[A\n",
      "Epoch  1/1:  54%|█████▍    | 601/1114 [00:05<00:06, 74.54batches/s]\u001b[A\n",
      "Epoch  1/1:  58%|█████▊    | 651/1114 [00:05<00:05, 83.29batches/s]\u001b[A\n",
      "Epoch  1/1:  63%|██████▎   | 701/1114 [00:06<00:04, 91.19batches/s]\u001b[A\n",
      "Epoch  1/1:  67%|██████▋   | 751/1114 [00:06<00:03, 97.74batches/s]\u001b[A\n",
      "Epoch  1/1:  72%|███████▏  | 801/1114 [00:07<00:03, 102.56batches/s]\u001b[A\n",
      "Epoch  1/1:  76%|███████▋  | 851/1114 [00:07<00:02, 106.08batches/s]\u001b[A\n",
      "Epoch  1/1:  81%|████████  | 901/1114 [00:08<00:01, 108.54batches/s]\u001b[A\n",
      "Epoch  1/1:  85%|████████▌ | 951/1114 [00:08<00:01, 110.59batches/s]\u001b[A\n",
      "Epoch  1/1:  90%|████████▉ | 1001/1114 [00:08<00:01, 111.56batches/s]\u001b[A\n",
      "Epoch  1/1:  94%|█████████▍| 1051/1114 [00:09<00:00, 112.77batches/s]\u001b[A\n",
      "Epoch  1/1:  99%|█████████▉| 1101/1114 [00:09<00:00, 114.76batches/s]\u001b[A\n",
      "Epoch  1/1: 100%|██████████| 1114/1114 [00:09<00:00, 112.92batches/s]\u001b[A"
     ]
    },
    {
     "data": {
      "image/png": "[encoded data removed]",
      "text/plain": [
       "<matplotlib.figure.Figure at 0x7f20a96597f0>"
      ]
     },
     "metadata": {},
     "output_type": "display_data"
    },
    {
     "name": "stdout",
     "output_type": "stream",
     "text": [
      "Validation accuracy at 0.7039999961853027\n"
     ]
    },
    {
     "name": "stderr",
     "output_type": "stream",
     "text": [
      "Epochs: 1 Learning Rate: 0.01\n",
      "\n",
      "Epoch  1/1:   0%|          | 0/1114 [00:00<?, ?batches/s]\u001b[A\n",
      "Epoch  1/1:   0%|          | 1/1114 [00:00<06:31,  2.84batches/s]\u001b[A\n",
      "Epoch  1/1:   5%|▍         | 51/1114 [00:00<04:24,  4.02batches/s]\u001b[A\n",
      "Epoch  1/1:   9%|▉         | 101/1114 [00:01<02:59,  5.66batches/s]\u001b[A\n",
      "Epoch  1/1:  14%|█▎        | 151/1114 [00:01<02:01,  7.91batches/s]\u001b[A\n",
      "Epoch  1/1:  18%|█▊        | 201/1114 [00:02<01:23, 10.98batches/s]\u001b[A\n",
      "Epoch  1/1:  23%|██▎       | 251/1114 [00:02<00:57, 15.08batches/s]\u001b[A\n",
      "Epoch  1/1:  27%|██▋       | 301/1114 [00:02<00:39, 20.39batches/s]\u001b[A\n",
      "Epoch  1/1:  32%|███▏      | 351/1114 [00:03<00:28, 27.09batches/s]\u001b[A\n",
      "Epoch  1/1:  36%|███▌      | 401/1114 [00:03<00:20, 35.18batches/s]\u001b[A\n",
      "Epoch  1/1:  40%|████      | 450/1114 [00:03<00:13, 48.75batches/s]\u001b[A\n",
      "Epoch  1/1:  42%|████▏     | 473/1114 [00:04<00:12, 51.59batches/s]\u001b[A\n",
      "Epoch  1/1:  45%|████▍     | 501/1114 [00:04<00:10, 56.34batches/s]\u001b[A\n",
      "Epoch  1/1:  49%|████▉     | 551/1114 [00:05<00:08, 66.54batches/s]\u001b[A\n",
      "Epoch  1/1:  54%|█████▍    | 601/1114 [00:05<00:06, 76.31batches/s]\u001b[A\n",
      "Epoch  1/1:  58%|█████▊    | 651/1114 [00:05<00:05, 85.03batches/s]\u001b[A\n",
      "Epoch  1/1:  63%|██████▎   | 701/1114 [00:06<00:04, 92.47batches/s]\u001b[A\n",
      "Epoch  1/1:  67%|██████▋   | 751/1114 [00:06<00:03, 98.18batches/s]\u001b[A\n",
      "Epoch  1/1:  72%|███████▏  | 801/1114 [00:07<00:03, 103.74batches/s]\u001b[A\n",
      "Epoch  1/1:  76%|███████▋  | 851/1114 [00:07<00:02, 106.90batches/s]\u001b[A\n",
      "Epoch  1/1:  81%|████████  | 901/1114 [00:08<00:01, 108.91batches/s]\u001b[A\n",
      "Epoch  1/1:  85%|████████▌ | 951/1114 [00:08<00:01, 110.99batches/s]\u001b[A\n",
      "Epoch  1/1:  90%|████████▉ | 1001/1114 [00:08<00:00, 113.95batches/s]\u001b[A\n",
      "Epoch  1/1:  94%|█████████▍| 1051/1114 [00:09<00:00, 114.49batches/s]\u001b[A\n",
      "Epoch  1/1:  99%|█████████▉| 1101/1114 [00:09<00:00, 114.93batches/s]\u001b[A\n",
      "Epoch  1/1: 100%|██████████| 1114/1114 [00:09<00:00, 112.71batches/s]\u001b[A"
     ]
    },
    {
     "data": {
      "image/png": "[encoded data removed]",
      "text/plain": [
       "<matplotlib.figure.Figure at 0x7f20c8662ac8>"
      ]
     },
     "metadata": {},
     "output_type": "display_data"
    },
    {
     "name": "stdout",
     "output_type": "stream",
     "text": [
      "Validation accuracy at 0.5557334423065186\n"
     ]
    },
    {
     "name": "stderr",
     "output_type": "stream",
     "text": [
      "Epochs: 1 Learning Rate: 0.2\n",
      "\n",
      "Epoch  1/1:   0%|          | 0/1114 [00:00<?, ?batches/s]\u001b[A\n",
      "Epoch  1/1:   0%|          | 1/1114 [00:00<06:30,  2.85batches/s]\u001b[A\n",
      "Epoch  1/1:   5%|▍         | 51/1114 [00:00<04:23,  4.03batches/s]\u001b[A\n",
      "Epoch  1/1:   9%|▉         | 101/1114 [00:01<02:58,  5.68batches/s]\u001b[A\n",
      "Epoch  1/1:  14%|█▎        | 151/1114 [00:01<02:01,  7.95batches/s]\u001b[A\n",
      "Epoch  1/1:  18%|█▊        | 201/1114 [00:02<01:22, 11.04batches/s]\u001b[A\n",
      "Epoch  1/1:  23%|██▎       | 251/1114 [00:02<00:56, 15.17batches/s]\u001b[A\n",
      "Epoch  1/1:  27%|██▋       | 301/1114 [00:02<00:39, 20.51batches/s]\u001b[A\n",
      "Epoch  1/1:  32%|███▏      | 351/1114 [00:03<00:28, 27.23batches/s]\u001b[A\n",
      "Epoch  1/1:  36%|███▌      | 401/1114 [00:03<00:20, 35.38batches/s]\u001b[A\n",
      "Epoch  1/1:  40%|████      | 451/1114 [00:04<00:14, 44.84batches/s]\u001b[A\n",
      "Epoch  1/1:  45%|████▍     | 501/1114 [00:04<00:11, 54.86batches/s]\u001b[A\n",
      "Epoch  1/1:  49%|████▉     | 551/1114 [00:05<00:08, 65.16batches/s]\u001b[A\n",
      "Epoch  1/1:  54%|█████▍    | 601/1114 [00:05<00:06, 75.12batches/s]\u001b[A\n",
      "Epoch  1/1:  58%|█████▊    | 651/1114 [00:05<00:05, 83.74batches/s]\u001b[A\n",
      "Epoch  1/1:  63%|██████▎   | 701/1114 [00:06<00:04, 91.35batches/s]\u001b[A\n",
      "Epoch  1/1:  67%|██████▋   | 751/1114 [00:06<00:03, 97.43batches/s]\u001b[A\n",
      "Epoch  1/1:  72%|███████▏  | 801/1114 [00:07<00:03, 102.08batches/s]\u001b[A\n",
      "Epoch  1/1:  76%|███████▋  | 851/1114 [00:07<00:02, 105.71batches/s]\u001b[A\n",
      "Epoch  1/1:  81%|████████  | 901/1114 [00:08<00:01, 108.74batches/s]\u001b[A\n",
      "Epoch  1/1:  85%|████████▌ | 951/1114 [00:08<00:01, 110.54batches/s]\u001b[A\n",
      "Epoch  1/1:  90%|████████▉ | 1001/1114 [00:08<00:00, 113.38batches/s]\u001b[A\n",
      "Epoch  1/1:  94%|█████████▍| 1050/1114 [00:09<00:00, 147.26batches/s]\u001b[A\n",
      "Epoch  1/1:  96%|█████████▋| 1073/1114 [00:09<00:00, 103.11batches/s]\u001b[A\n",
      "Epoch  1/1:  99%|█████████▉| 1101/1114 [00:09<00:00, 91.39batches/s] \u001b[A\n",
      "Epoch  1/1: 100%|██████████| 1114/1114 [00:09<00:00, 113.37batches/s]\u001b[A"
     ]
    },
    {
     "data": {
      "image/png": "[encoded data removed]",
      "text/plain": [
       "<matplotlib.figure.Figure at 0x7f20c8087978>"
      ]
     },
     "metadata": {},
     "output_type": "display_data"
    },
    {
     "name": "stdout",
     "output_type": "stream",
     "text": [
      "Validation accuracy at 0.722933292388916\n"
     ]
    },
    {
     "name": "stderr",
     "output_type": "stream",
     "text": [
      "Epochs: 2 Learning Rate: 0.2\n",
      "\n",
      "Epoch  1/2:   0%|          | 0/1114 [00:00<?, ?batches/s]\u001b[A\n",
      "Epoch  1/2:   0%|          | 1/1114 [00:00<06:35,  2.81batches/s]\u001b[A\n",
      "Epoch  1/2:   5%|▍         | 51/1114 [00:00<04:27,  3.98batches/s]\u001b[A\n",
      "Epoch  1/2:   9%|▉         | 101/1114 [00:01<03:00,  5.60batches/s]\u001b[A\n",
      "Epoch  1/2:  14%|█▎        | 151/1114 [00:01<02:02,  7.84batches/s]\u001b[A\n",
      "Epoch  1/2:  18%|█▊        | 201/1114 [00:02<01:23, 10.89batches/s]\u001b[A\n",
      "Epoch  1/2:  23%|██▎       | 251/1114 [00:02<00:57, 14.96batches/s]\u001b[A\n",
      "Epoch  1/2:  27%|██▋       | 301/1114 [00:02<00:40, 20.24batches/s]\u001b[A\n",
      "Epoch  1/2:  32%|███▏      | 351/1114 [00:03<00:28, 26.91batches/s]\u001b[A\n",
      "Epoch  1/2:  36%|███▌      | 401/1114 [00:03<00:20, 35.00batches/s]\u001b[A\n",
      "Epoch  1/2:  40%|████      | 451/1114 [00:04<00:14, 44.35batches/s]\u001b[A\n",
      "Epoch  1/2:  45%|████▍     | 501/1114 [00:04<00:11, 54.42batches/s]\u001b[A\n",
      "Epoch  1/2:  49%|████▉     | 551/1114 [00:05<00:08, 64.62batches/s]\u001b[A\n",
      "Epoch  1/2:  54%|█████▍    | 601/1114 [00:05<00:06, 74.46batches/s]\u001b[A\n",
      "Epoch  1/2:  58%|█████▊    | 651/1114 [00:05<00:05, 83.71batches/s]\u001b[A\n",
      "Epoch  1/2:  63%|██████▎   | 701/1114 [00:06<00:04, 91.02batches/s]\u001b[A\n",
      "Epoch  1/2:  67%|██████▋   | 751/1114 [00:06<00:03, 96.97batches/s]\u001b[A\n",
      "Epoch  1/2:  72%|███████▏  | 801/1114 [00:07<00:03, 101.84batches/s]\u001b[A\n",
      "Epoch  1/2:  76%|███████▋  | 851/1114 [00:07<00:02, 105.39batches/s]\u001b[A\n",
      "Epoch  1/2:  81%|████████  | 901/1114 [00:08<00:01, 108.26batches/s]\u001b[A\n",
      "Epoch  1/2:  85%|████████▌ | 951/1114 [00:08<00:01, 109.96batches/s]\u001b[A\n",
      "Epoch  1/2:  90%|████████▉ | 1001/1114 [00:08<00:01, 111.35batches/s]\u001b[A\n",
      "Epoch  1/2:  94%|█████████▍| 1051/1114 [00:09<00:00, 113.65batches/s]\u001b[A\n",
      "Epoch  1/2:  99%|█████████▉| 1101/1114 [00:09<00:00, 114.35batches/s]\u001b[A\n",
      "Epoch  1/2: 100%|██████████| 1114/1114 [00:09<00:00, 112.92batches/s]\u001b[A\n",
      "Epoch  2/2:   0%|          | 0/1114 [00:00<?, ?batches/s]\u001b[A\n",
      "Epoch  2/2:   0%|          | 1/1114 [00:00<05:54,  3.14batches/s]\u001b[A\n",
      "Epoch  2/2:   5%|▍         | 51/1114 [00:00<03:59,  4.43batches/s]\u001b[A\n",
      "Epoch  2/2:   9%|▉         | 101/1114 [00:01<02:42,  6.23batches/s]\u001b[A\n",
      "Epoch  2/2:  14%|█▎        | 151/1114 [00:01<01:50,  8.70batches/s]\u001b[A\n",
      "Epoch  2/2:  18%|█▊        | 201/1114 [00:01<01:15, 12.07batches/s]\u001b[A\n",
      "Epoch  2/2:  23%|██▎       | 251/1114 [00:02<00:52, 16.56batches/s]\u001b[A\n",
      "Epoch  2/2:  27%|██▋       | 296/1114 [00:02<00:35, 23.28batches/s]\u001b[A\n",
      "Epoch  2/2:  28%|██▊       | 317/1114 [00:02<00:27, 28.59batches/s]\u001b[A\n",
      "Epoch  2/2:  32%|███▏      | 351/1114 [00:03<00:21, 36.13batches/s]\u001b[A\n",
      "Epoch  2/2:  36%|███▌      | 401/1114 [00:03<00:15, 46.02batches/s]\u001b[A\n",
      "Epoch  2/2:  40%|████      | 451/1114 [00:03<00:11, 56.72batches/s]\u001b[A\n",
      "Epoch  2/2:  45%|████▍     | 501/1114 [00:04<00:09, 67.81batches/s]\u001b[A\n",
      "Epoch  2/2:  49%|████▉     | 551/1114 [00:04<00:07, 78.37batches/s]\u001b[A\n",
      "Epoch  2/2:  54%|█████▍    | 601/1114 [00:05<00:05, 87.82batches/s]\u001b[A\n",
      "Epoch  2/2:  58%|█████▊    | 651/1114 [00:05<00:04, 95.50batches/s]\u001b[A\n",
      "Epoch  2/2:  63%|██████▎   | 701/1114 [00:06<00:04, 101.87batches/s]\u001b[A\n",
      "Epoch  2/2:  67%|██████▋   | 751/1114 [00:06<00:03, 107.10batches/s]\u001b[A\n",
      "Epoch  2/2:  72%|███████▏  | 801/1114 [00:06<00:02, 110.51batches/s]\u001b[A\n",
      "Epoch  2/2:  76%|███████▋  | 851/1114 [00:07<00:02, 112.61batches/s]\u001b[A\n",
      "Epoch  2/2:  81%|████████  | 901/1114 [00:07<00:01, 115.03batches/s]\u001b[A\n",
      "Epoch  2/2:  85%|████████▌ | 951/1114 [00:08<00:01, 117.22batches/s]\u001b[A\n",
      "Epoch  2/2:  90%|████████▉ | 1001/1114 [00:08<00:00, 118.68batches/s]\u001b[A\n",
      "Epoch  2/2:  94%|█████████▍| 1051/1114 [00:08<00:00, 119.21batches/s]\u001b[A\n",
      "Epoch  2/2:  99%|█████████▉| 1101/1114 [00:09<00:00, 118.42batches/s]\u001b[A\n",
      "Epoch  2/2: 100%|██████████| 1114/1114 [00:09<00:00, 118.58batches/s]\u001b[A"
     ]
    },
    {
     "data": {
      "image/png": "[encoded data removed]",
      "text/plain": [
       "<matplotlib.figure.Figure at 0x7f20ca08e7f0>"
      ]
     },
     "metadata": {},
     "output_type": "display_data"
    },
    {
     "name": "stdout",
     "output_type": "stream",
     "text": [
      "Validation accuracy at 0.7249333262443542\n"
     ]
    },
    {
     "name": "stderr",
     "output_type": "stream",
     "text": [
      "Epochs: 3 Learning Rate: 0.2\n",
      "\n",
      "Epoch  1/3:   0%|          | 0/1114 [00:00<?, ?batches/s]\u001b[A\n",
      "Epoch  1/3:   0%|          | 1/1114 [00:00<06:34,  2.82batches/s]\u001b[A\n",
      "Epoch  1/3:   5%|▍         | 51/1114 [00:00<04:26,  3.99batches/s]\u001b[A\n",
      "Epoch  1/3:   9%|▉         | 101/1114 [00:01<03:00,  5.61batches/s]\u001b[A\n",
      "Epoch  1/3:  14%|█▎        | 151/1114 [00:01<02:02,  7.85batches/s]\u001b[A\n",
      "Epoch  1/3:  18%|█▊        | 201/1114 [00:02<01:23, 10.91batches/s]\u001b[A\n",
      "Epoch  1/3:  23%|██▎       | 251/1114 [00:02<00:57, 14.98batches/s]\u001b[A\n",
      "Epoch  1/3:  27%|██▋       | 301/1114 [00:02<00:40, 20.30batches/s]\u001b[A\n",
      "Epoch  1/3:  32%|███▏      | 351/1114 [00:03<00:28, 26.97batches/s]\u001b[A\n",
      "Epoch  1/3:  36%|███▌      | 401/1114 [00:03<00:20, 35.00batches/s]\u001b[A\n",
      "Epoch  1/3:  40%|████      | 451/1114 [00:04<00:14, 44.22batches/s]\u001b[A\n",
      "Epoch  1/3:  45%|████▍     | 501/1114 [00:04<00:11, 54.36batches/s]\u001b[A\n",
      "Epoch  1/3:  49%|████▉     | 551/1114 [00:05<00:08, 64.78batches/s]\u001b[A\n",
      "Epoch  1/3:  54%|█████▍    | 601/1114 [00:05<00:06, 74.72batches/s]\u001b[A\n",
      "Epoch  1/3:  58%|█████▊    | 651/1114 [00:05<00:05, 83.54batches/s]\u001b[A\n",
      "Epoch  1/3:  63%|██████▎   | 701/1114 [00:06<00:04, 91.15batches/s]\u001b[A\n",
      "Epoch  1/3:  67%|██████▋   | 751/1114 [00:06<00:03, 97.63batches/s]\u001b[A\n",
      "Epoch  1/3:  72%|███████▏  | 801/1114 [00:07<00:03, 103.09batches/s]\u001b[A\n",
      "Epoch  1/3:  76%|███████▋  | 850/1114 [00:07<00:01, 135.04batches/s]\u001b[A\n",
      "Epoch  1/3:  78%|███████▊  | 873/1114 [00:07<00:02, 98.88batches/s] \u001b[A\n",
      "Epoch  1/3:  81%|████████  | 901/1114 [00:08<00:02, 88.69batches/s]\u001b[A\n",
      "Epoch  1/3:  85%|████████▌ | 951/1114 [00:08<00:01, 95.69batches/s]\u001b[A\n",
      "Epoch  1/3:  90%|████████▉ | 1001/1114 [00:08<00:01, 100.63batches/s]\u001b[A\n",
      "Epoch  1/3:  94%|█████████▍| 1051/1114 [00:09<00:00, 104.58batches/s]\u001b[A\n",
      "Epoch  1/3:  99%|█████████▉| 1101/1114 [00:09<00:00, 107.60batches/s]\u001b[A\n",
      "Epoch  1/3: 100%|██████████| 1114/1114 [00:09<00:00, 112.94batches/s]\u001b[A\n",
      "Epoch  2/3:   0%|          | 0/1114 [00:00<?, ?batches/s]\u001b[A\n",
      "Epoch  2/3:   0%|          | 1/1114 [00:00<06:17,  2.95batches/s]\u001b[A\n",
      "Epoch  2/3:   5%|▍         | 51/1114 [00:00<04:15,  4.16batches/s]\u001b[A\n",
      "Epoch  2/3:   9%|▉         | 101/1114 [00:01<02:52,  5.86batches/s]\u001b[A\n",
      "Epoch  2/3:  14%|█▎        | 151/1114 [00:01<01:57,  8.19batches/s]\u001b[A\n",
      "Epoch  2/3:  18%|█▊        | 201/1114 [00:02<01:20, 11.36batches/s]\u001b[A\n",
      "Epoch  2/3:  23%|██▎       | 251/1114 [00:02<00:55, 15.56batches/s]\u001b[A\n",
      "Epoch  2/3:  27%|██▋       | 301/1114 [00:02<00:38, 21.02batches/s]\u001b[A\n",
      "Epoch  2/3:  32%|███▏      | 351/1114 [00:03<00:27, 27.83batches/s]\u001b[A\n",
      "Epoch  2/3:  36%|███▌      | 401/1114 [00:03<00:19, 36.04batches/s]\u001b[A\n",
      "Epoch  2/3:  40%|████      | 451/1114 [00:04<00:14, 45.31batches/s]\u001b[A\n",
      "Epoch  2/3:  45%|████▍     | 501/1114 [00:04<00:11, 55.39batches/s]\u001b[A\n",
      "Epoch  2/3:  49%|████▉     | 551/1114 [00:05<00:08, 65.64batches/s]\u001b[A\n",
      "Epoch  2/3:  54%|█████▍    | 601/1114 [00:05<00:06, 75.30batches/s]\u001b[A\n",
      "Epoch  2/3:  58%|█████▊    | 651/1114 [00:05<00:05, 84.08batches/s]\u001b[A\n",
      "Epoch  2/3:  63%|██████▎   | 701/1114 [00:06<00:04, 91.48batches/s]\u001b[A\n",
      "Epoch  2/3:  67%|██████▋   | 751/1114 [00:06<00:03, 98.08batches/s]\u001b[A\n",
      "Epoch  2/3:  72%|███████▏  | 801/1114 [00:07<00:03, 102.68batches/s]\u001b[A\n",
      "Epoch  2/3:  76%|███████▋  | 851/1114 [00:07<00:02, 106.09batches/s]\u001b[A\n",
      "Epoch  2/3:  81%|████████  | 901/1114 [00:08<00:01, 108.67batches/s]\u001b[A\n",
      "Epoch  2/3:  85%|████████▌ | 951/1114 [00:08<00:01, 110.56batches/s]\u001b[A\n",
      "Epoch  2/3:  90%|████████▉ | 1001/1114 [00:09<00:01, 112.20batches/s]\u001b[A\n",
      "Epoch  2/3:  94%|█████████▍| 1051/1114 [00:09<00:00, 115.47batches/s]\u001b[A\n",
      "Epoch  2/3:  99%|█████████▉| 1101/1114 [00:09<00:00, 117.27batches/s]\u001b[A\n",
      "Epoch  2/3: 100%|██████████| 1114/1114 [00:09<00:00, 113.09batches/s]\u001b[A\n",
      "Epoch  3/3:   0%|          | 0/1114 [00:00<?, ?batches/s]\u001b[A\n",
      "Epoch  3/3:   0%|          | 1/1114 [00:00<06:15,  2.96batches/s]\u001b[A\n",
      "Epoch  3/3:   5%|▍         | 51/1114 [00:00<04:14,  4.18batches/s]\u001b[A\n",
      "Epoch  3/3:   9%|▉         | 101/1114 [00:01<02:52,  5.89batches/s]\u001b[A\n",
      "Epoch  3/3:  14%|█▎        | 151/1114 [00:01<01:57,  8.23batches/s]\u001b[A\n",
      "Epoch  3/3:  18%|█▊        | 201/1114 [00:02<01:20, 11.40batches/s]\u001b[A\n",
      "Epoch  3/3:  23%|██▎       | 251/1114 [00:02<00:55, 15.62batches/s]\u001b[A\n",
      "Epoch  3/3:  27%|██▋       | 301/1114 [00:02<00:38, 21.10batches/s]\u001b[A\n",
      "Epoch  3/3:  32%|███▏      | 351/1114 [00:03<00:27, 27.93batches/s]\u001b[A\n",
      "Epoch  3/3:  36%|███▌      | 401/1114 [00:03<00:19, 36.12batches/s]\u001b[A\n",
      "Epoch  3/3:  40%|████      | 451/1114 [00:04<00:14, 45.53batches/s]\u001b[A\n",
      "Epoch  3/3:  45%|████▍     | 501/1114 [00:04<00:11, 55.58batches/s]\u001b[A\n",
      "Epoch  3/3:  49%|████▉     | 551/1114 [00:05<00:08, 65.82batches/s]\u001b[A\n",
      "Epoch  3/3:  54%|█████▍    | 601/1114 [00:05<00:06, 75.54batches/s]\u001b[A\n",
      "Epoch  3/3:  58%|█████▊    | 651/1114 [00:05<00:05, 84.59batches/s]\u001b[A\n",
      "Epoch  3/3:  63%|██████▎   | 701/1114 [00:06<00:04, 92.07batches/s]\u001b[A\n",
      "Epoch  3/3:  67%|██████▋   | 751/1114 [00:06<00:03, 98.18batches/s]\u001b[A\n",
      "Epoch  3/3:  72%|███████▏  | 801/1114 [00:07<00:03, 102.58batches/s]\u001b[A\n",
      "Epoch  3/3:  76%|███████▋  | 851/1114 [00:07<00:02, 106.20batches/s]\u001b[A\n",
      "Epoch  3/3:  81%|████████  | 901/1114 [00:08<00:01, 108.92batches/s]\u001b[A\n",
      "Epoch  3/3:  85%|████████▌ | 951/1114 [00:08<00:01, 110.52batches/s]\u001b[A\n",
      "Epoch  3/3:  90%|████████▉ | 1001/1114 [00:09<00:01, 112.45batches/s]\u001b[A\n",
      "Epoch  3/3:  94%|█████████▍| 1051/1114 [00:09<00:00, 112.98batches/s]\u001b[A\n",
      "Epoch  3/3:  99%|█████████▉| 1101/1114 [00:09<00:00, 114.23batches/s]\u001b[A\n",
      "Epoch  3/3: 100%|██████████| 1114/1114 [00:09<00:00, 112.62batches/s]\u001b[A"
     ]
    },
    {
     "data": {
      "image/png": "[encoded data removed]",
      "text/plain": [
       "<matplotlib.figure.Figure at 0x7f20a97599e8>"
      ]
     },
     "metadata": {},
     "output_type": "display_data"
    },
    {
     "name": "stdout",
     "output_type": "stream",
     "text": [
      "Validation accuracy at 0.7185332775115967\n"
     ]
    },
    {
     "name": "stderr",
     "output_type": "stream",
     "text": [
      "Epochs: 4 Learning Rate: 0.2\n",
      "\n",
      "Epoch  1/4:   0%|          | 0/1114 [00:00<?, ?batches/s]\u001b[A\n",
      "Epoch  1/4:   0%|          | 1/1114 [00:00<06:35,  2.81batches/s]\u001b[A\n",
      "Epoch  1/4:   5%|▍         | 51/1114 [00:00<04:27,  3.98batches/s]\u001b[A\n",
      "Epoch  1/4:   9%|▉         | 101/1114 [00:01<03:00,  5.60batches/s]\u001b[A\n",
      "Epoch  1/4:  14%|█▎        | 151/1114 [00:01<02:02,  7.85batches/s]\u001b[A\n",
      "Epoch  1/4:  18%|█▊        | 201/1114 [00:02<01:23, 10.89batches/s]\u001b[A\n",
      "Epoch  1/4:  23%|██▎       | 251/1114 [00:02<00:57, 14.96batches/s]\u001b[A\n",
      "Epoch  1/4:  27%|██▋       | 301/1114 [00:02<00:40, 20.24batches/s]\u001b[A\n",
      "Epoch  1/4:  32%|███▏      | 351/1114 [00:03<00:28, 26.87batches/s]\u001b[A\n",
      "Epoch  1/4:  36%|███▌      | 401/1114 [00:03<00:20, 34.94batches/s]\u001b[A\n",
      "Epoch  1/4:  40%|████      | 451/1114 [00:04<00:15, 44.19batches/s]\u001b[A\n",
      "Epoch  1/4:  45%|████▍     | 501/1114 [00:04<00:11, 54.30batches/s]\u001b[A\n",
      "Epoch  1/4:  49%|████▉     | 551/1114 [00:05<00:08, 64.81batches/s]\u001b[A\n",
      "Epoch  1/4:  54%|█████▍    | 601/1114 [00:05<00:06, 74.60batches/s]\u001b[A\n",
      "Epoch  1/4:  58%|█████▊    | 651/1114 [00:05<00:05, 83.40batches/s]\u001b[A\n",
      "Epoch  1/4:  63%|██████▎   | 701/1114 [00:06<00:04, 90.88batches/s]\u001b[A\n",
      "Epoch  1/4:  67%|██████▋   | 751/1114 [00:06<00:03, 96.80batches/s]\u001b[A\n",
      "Epoch  1/4:  72%|███████▏  | 801/1114 [00:07<00:03, 102.14batches/s]\u001b[A\n",
      "Epoch  1/4:  76%|███████▋  | 851/1114 [00:07<00:02, 106.73batches/s]\u001b[A\n",
      "Epoch  1/4:  81%|████████  | 901/1114 [00:08<00:01, 110.15batches/s]\u001b[A\n",
      "Epoch  1/4:  85%|████████▌ | 951/1114 [00:08<00:01, 111.33batches/s]\u001b[A\n",
      "Epoch  1/4:  90%|████████▉ | 1001/1114 [00:08<00:00, 113.95batches/s]\u001b[A\n",
      "Epoch  1/4:  94%|█████████▍| 1051/1114 [00:09<00:00, 117.31batches/s]\u001b[A\n",
      "Epoch  1/4:  99%|█████████▉| 1101/1114 [00:09<00:00, 116.83batches/s]\u001b[A\n",
      "Epoch  1/4: 100%|██████████| 1114/1114 [00:09<00:00, 113.69batches/s]\u001b[A\n",
      "Epoch  2/4:   0%|          | 0/1114 [00:00<?, ?batches/s]\u001b[A\n",
      "Epoch  2/4:   0%|          | 1/1114 [00:00<06:16,  2.95batches/s]\u001b[A\n",
      "Epoch  2/4:   5%|▍         | 51/1114 [00:00<04:14,  4.17batches/s]\u001b[A\n",
      "Epoch  2/4:   9%|▉         | 101/1114 [00:01<02:52,  5.87batches/s]\u001b[A\n",
      "Epoch  2/4:  14%|█▎        | 151/1114 [00:01<01:57,  8.21batches/s]\u001b[A\n",
      "Epoch  2/4:  18%|█▊        | 201/1114 [00:02<01:20, 11.38batches/s]\u001b[A\n",
      "Epoch  2/4:  23%|██▎       | 251/1114 [00:02<00:55, 15.59batches/s]\u001b[A\n",
      "Epoch  2/4:  27%|██▋       | 301/1114 [00:02<00:38, 21.11batches/s]\u001b[A\n",
      "Epoch  2/4:  32%|███▏      | 351/1114 [00:03<00:27, 28.01batches/s]\u001b[A\n",
      "Epoch  2/4:  36%|███▌      | 401/1114 [00:03<00:19, 36.26batches/s]\u001b[A\n",
      "Epoch  2/4:  40%|████      | 451/1114 [00:04<00:14, 45.66batches/s]\u001b[A\n",
      "Epoch  2/4:  45%|████▍     | 501/1114 [00:04<00:10, 55.86batches/s]\u001b[A\n",
      "Epoch  2/4:  49%|████▉     | 551/1114 [00:05<00:08, 66.14batches/s]\u001b[A\n",
      "Epoch  2/4:  54%|█████▍    | 601/1114 [00:05<00:06, 75.89batches/s]\u001b[A\n",
      "Epoch  2/4:  58%|█████▊    | 651/1114 [00:05<00:05, 84.69batches/s]\u001b[A\n",
      "Epoch  2/4:  63%|██████▎   | 701/1114 [00:06<00:04, 91.83batches/s]\u001b[A\n",
      "Epoch  2/4:  67%|██████▋   | 751/1114 [00:06<00:03, 98.13batches/s]\u001b[A\n",
      "Epoch  2/4:  72%|███████▏  | 801/1114 [00:07<00:03, 103.61batches/s]\u001b[A\n",
      "Epoch  2/4:  76%|███████▋  | 851/1114 [00:07<00:02, 106.63batches/s]\u001b[A\n",
      "Epoch  2/4:  81%|████████  | 901/1114 [00:08<00:01, 109.03batches/s]\u001b[A\n",
      "Epoch  2/4:  85%|████████▌ | 951/1114 [00:08<00:01, 110.65batches/s]\u001b[A\n",
      "Epoch  2/4:  90%|████████▉ | 1001/1114 [00:08<00:01, 112.98batches/s]\u001b[A\n",
      "Epoch  2/4:  94%|█████████▍| 1051/1114 [00:09<00:00, 113.81batches/s]\u001b[A\n",
      "Epoch  2/4:  99%|█████████▉| 1101/1114 [00:09<00:00, 114.36batches/s]\u001b[A\n",
      "Epoch  2/4: 100%|██████████| 1114/1114 [00:09<00:00, 113.34batches/s]\u001b[A\n",
      "Epoch  3/4:   0%|          | 0/1114 [00:00<?, ?batches/s]\u001b[A\n",
      "Epoch  3/4:   0%|          | 1/1114 [00:00<06:20,  2.92batches/s]\u001b[A\n",
      "Epoch  3/4:   5%|▍         | 51/1114 [00:00<04:17,  4.13batches/s]\u001b[A\n",
      "Epoch  3/4:   9%|▉         | 101/1114 [00:01<02:54,  5.81batches/s]\u001b[A\n",
      "Epoch  3/4:  14%|█▎        | 151/1114 [00:01<01:58,  8.14batches/s]\u001b[A\n",
      "Epoch  3/4:  18%|█▊        | 201/1114 [00:02<01:20, 11.31batches/s]\u001b[A\n",
      "Epoch  3/4:  23%|██▎       | 251/1114 [00:02<00:55, 15.51batches/s]\u001b[A\n",
      "Epoch  3/4:  27%|██▋       | 301/1114 [00:02<00:38, 20.94batches/s]\u001b[A\n",
      "Epoch  3/4:  32%|███▏      | 351/1114 [00:03<00:27, 27.82batches/s]\u001b[A\n",
      "Epoch  3/4:  36%|███▌      | 401/1114 [00:03<00:19, 36.27batches/s]\u001b[A\n",
      "Epoch  3/4:  40%|████      | 451/1114 [00:04<00:14, 45.61batches/s]\u001b[A\n",
      "Epoch  3/4:  45%|████▍     | 501/1114 [00:04<00:10, 55.91batches/s]\u001b[A\n",
      "Epoch  3/4:  49%|████▉     | 551/1114 [00:04<00:08, 66.20batches/s]\u001b[A\n",
      "Epoch  3/4:  54%|█████▍    | 601/1114 [00:05<00:06, 76.03batches/s]\u001b[A\n",
      "Epoch  3/4:  58%|█████▊    | 651/1114 [00:05<00:05, 84.73batches/s]\u001b[A\n",
      "Epoch  3/4:  63%|██████▎   | 701/1114 [00:06<00:04, 92.05batches/s]\u001b[A\n",
      "Epoch  3/4:  67%|██████▋   | 751/1114 [00:06<00:03, 97.92batches/s]\u001b[A\n",
      "Epoch  3/4:  72%|███████▏  | 801/1114 [00:07<00:03, 102.55batches/s]\u001b[A\n",
      "Epoch  3/4:  76%|███████▋  | 851/1114 [00:07<00:02, 106.92batches/s]\u001b[A\n",
      "Epoch  3/4:  81%|████████  | 901/1114 [00:08<00:01, 109.97batches/s]\u001b[A\n",
      "Epoch  3/4:  85%|████████▌ | 951/1114 [00:08<00:01, 113.05batches/s]\u001b[A\n",
      "Epoch  3/4:  90%|████████▉ | 1001/1114 [00:08<00:00, 116.54batches/s]\u001b[A\n",
      "Epoch  3/4:  94%|█████████▍| 1051/1114 [00:09<00:00, 116.07batches/s]\u001b[A\n",
      "Epoch  3/4:  99%|█████████▉| 1101/1114 [00:09<00:00, 116.63batches/s]\u001b[A\n",
      "Epoch  3/4: 100%|██████████| 1114/1114 [00:09<00:00, 114.87batches/s]\u001b[A\n",
      "Epoch  4/4:   0%|          | 0/1114 [00:00<?, ?batches/s]\u001b[A\n",
      "Epoch  4/4:   0%|          | 1/1114 [00:00<06:15,  2.96batches/s]\u001b[A\n",
      "Epoch  4/4:   5%|▍         | 51/1114 [00:00<04:14,  4.19batches/s]\u001b[A\n",
      "Epoch  4/4:   9%|▉         | 101/1114 [00:01<02:52,  5.89batches/s]\u001b[A\n",
      "Epoch  4/4:  14%|█▎        | 151/1114 [00:01<01:56,  8.23batches/s]\u001b[A\n",
      "Epoch  4/4:  18%|█▊        | 201/1114 [00:02<01:19, 11.41batches/s]\u001b[A\n",
      "Epoch  4/4:  23%|██▎       | 251/1114 [00:02<00:55, 15.66batches/s]\u001b[A\n",
      "Epoch  4/4:  27%|██▋       | 301/1114 [00:02<00:38, 21.15batches/s]\u001b[A\n",
      "Epoch  4/4:  32%|███▏      | 351/1114 [00:03<00:27, 28.03batches/s]\u001b[A\n",
      "Epoch  4/4:  36%|███▌      | 401/1114 [00:03<00:19, 36.31batches/s]\u001b[A\n",
      "Epoch  4/4:  40%|████      | 451/1114 [00:04<00:14, 45.87batches/s]\u001b[A\n",
      "Epoch  4/4:  45%|████▍     | 501/1114 [00:04<00:10, 56.53batches/s]\u001b[A\n",
      "Epoch  4/4:  49%|████▉     | 551/1114 [00:05<00:08, 67.20batches/s]\u001b[A\n",
      "Epoch  4/4:  54%|█████▍    | 601/1114 [00:05<00:06, 77.11batches/s]\u001b[A\n",
      "Epoch  4/4:  58%|█████▊    | 651/1114 [00:05<00:05, 86.14batches/s]\u001b[A\n",
      "Epoch  4/4:  63%|██████▎   | 701/1114 [00:06<00:04, 94.01batches/s]\u001b[A\n",
      "Epoch  4/4:  67%|██████▋   | 751/1114 [00:06<00:03, 100.72batches/s]\u001b[A\n",
      "Epoch  4/4:  72%|███████▏  | 801/1114 [00:07<00:02, 105.78batches/s]\u001b[A\n",
      "Epoch  4/4:  76%|███████▋  | 851/1114 [00:07<00:02, 109.88batches/s]\u001b[A\n",
      "Epoch  4/4:  81%|████████  | 901/1114 [00:07<00:01, 113.55batches/s]\u001b[A\n",
      "Epoch  4/4:  85%|████████▌ | 951/1114 [00:08<00:01, 116.04batches/s]\u001b[A\n",
      "Epoch  4/4:  90%|████████▉ | 1001/1114 [00:08<00:00, 117.57batches/s]\u001b[A\n",
      "Epoch  4/4:  94%|█████████▍| 1051/1114 [00:09<00:00, 118.40batches/s]\u001b[A\n",
      "Epoch  4/4:  99%|█████████▉| 1101/1114 [00:09<00:00, 119.44batches/s]\u001b[A\n",
      "Epoch  4/4: 100%|██████████| 1114/1114 [00:09<00:00, 116.01batches/s]\u001b[A"
     ]
    },
    {
     "data": {
      "image/png": "[encoded data removed]",
      "text/plain": [
       "<matplotlib.figure.Figure at 0x7f209c227320>"
      ]
     },
     "metadata": {},
     "output_type": "display_data"
    },
    {
     "name": "stdout",
     "output_type": "stream",
     "text": [
      "Validation accuracy at 0.7602666616439819\n"
     ]
    },
    {
     "name": "stderr",
     "output_type": "stream",
     "text": [
      "Epochs: 5 Learning Rate: 0.2\n",
      "\n",
      "Epoch  1/5:   0%|          | 0/1114 [00:00<?, ?batches/s]\u001b[A\n",
      "Epoch  1/5:   0%|          | 1/1114 [00:00<06:28,  2.86batches/s]\u001b[A\n",
      "Epoch  1/5:   5%|▍         | 51/1114 [00:00<04:22,  4.05batches/s]\u001b[A\n",
      "Epoch  1/5:   9%|▉         | 101/1114 [00:01<02:57,  5.70batches/s]\u001b[A\n",
      "Epoch  1/5:  14%|█▎        | 151/1114 [00:01<02:00,  7.99batches/s]\u001b[A\n",
      "Epoch  1/5:  18%|█▊        | 201/1114 [00:01<01:22, 11.10batches/s]\u001b[A\n",
      "Epoch  1/5:  23%|██▎       | 251/1114 [00:02<00:56, 15.26batches/s]\u001b[A\n",
      "Epoch  1/5:  27%|██▋       | 301/1114 [00:02<00:39, 20.68batches/s]\u001b[A\n",
      "Epoch  1/5:  32%|███▏      | 351/1114 [00:03<00:27, 27.49batches/s]\u001b[A\n",
      "Epoch  1/5:  36%|███▌      | 401/1114 [00:03<00:19, 35.79batches/s]\u001b[A\n",
      "Epoch  1/5:  40%|████      | 451/1114 [00:04<00:14, 45.35batches/s]\u001b[A\n",
      "Epoch  1/5:  45%|████▍     | 501/1114 [00:04<00:10, 55.90batches/s]\u001b[A\n",
      "Epoch  1/5:  49%|████▉     | 551/1114 [00:04<00:08, 66.55batches/s]\u001b[A\n",
      "Epoch  1/5:  54%|█████▍    | 601/1114 [00:05<00:06, 77.28batches/s]\u001b[A\n",
      "Epoch  1/5:  58%|█████▊    | 651/1114 [00:05<00:05, 87.11batches/s]\u001b[A\n",
      "Epoch  1/5:  63%|██████▎   | 701/1114 [00:06<00:04, 95.29batches/s]\u001b[A\n",
      "Epoch  1/5:  67%|██████▋   | 751/1114 [00:06<00:03, 101.47batches/s]\u001b[A\n",
      "Epoch  1/5:  72%|███████▏  | 801/1114 [00:06<00:02, 106.93batches/s]\u001b[A\n",
      "Epoch  1/5:  76%|███████▋  | 851/1114 [00:07<00:02, 110.69batches/s]\u001b[A\n",
      "Epoch  1/5:  81%|████████  | 901/1114 [00:07<00:01, 112.58batches/s]\u001b[A\n",
      "Epoch  1/5:  85%|████████▌ | 951/1114 [00:08<00:01, 113.76batches/s]\u001b[A\n",
      "Epoch  1/5:  90%|████████▉ | 1001/1114 [00:08<00:00, 115.31batches/s]\u001b[A\n",
      "Epoch  1/5:  94%|█████████▍| 1051/1114 [00:09<00:00, 116.86batches/s]\u001b[A\n",
      "Epoch  1/5:  99%|█████████▉| 1101/1114 [00:09<00:00, 117.69batches/s]\u001b[A\n",
      "Epoch  1/5: 100%|██████████| 1114/1114 [00:09<00:00, 117.36batches/s]\u001b[A\n",
      "Epoch  2/5:   0%|          | 0/1114 [00:00<?, ?batches/s]\u001b[A\n",
      "Epoch  2/5:   0%|          | 1/1114 [00:00<05:46,  3.21batches/s]\u001b[A\n",
      "Epoch  2/5:   5%|▍         | 51/1114 [00:00<03:54,  4.53batches/s]\u001b[A\n",
      "Epoch  2/5:   9%|▉         | 101/1114 [00:01<02:39,  6.37batches/s]\u001b[A\n",
      "Epoch  2/5:  14%|█▎        | 151/1114 [00:01<01:48,  8.88batches/s]\u001b[A\n",
      "Epoch  2/5:  18%|█▊        | 201/1114 [00:02<01:14, 12.29batches/s]\u001b[A\n",
      "Epoch  2/5:  23%|██▎       | 251/1114 [00:02<00:51, 16.79batches/s]\u001b[A\n",
      "Epoch  2/5:  27%|██▋       | 301/1114 [00:02<00:36, 22.58batches/s]\u001b[A\n",
      "Epoch  2/5:  32%|███▏      | 351/1114 [00:03<00:25, 29.75batches/s]\u001b[A\n",
      "Epoch  2/5:  36%|███▌      | 401/1114 [00:03<00:18, 38.27batches/s]\u001b[A\n",
      "Epoch  2/5:  40%|████      | 451/1114 [00:04<00:13, 47.83batches/s]\u001b[A\n",
      "Epoch  2/5:  45%|████▍     | 501/1114 [00:04<00:10, 58.29batches/s]\u001b[A\n",
      "Epoch  2/5:  49%|████▉     | 551/1114 [00:05<00:08, 68.67batches/s]\u001b[A\n",
      "Epoch  2/5:  54%|█████▍    | 601/1114 [00:05<00:06, 78.01batches/s]\u001b[A\n",
      "Epoch  2/5:  58%|█████▊    | 651/1114 [00:05<00:05, 86.33batches/s]\u001b[A\n",
      "Epoch  2/5:  63%|██████▎   | 701/1114 [00:06<00:04, 93.09batches/s]\u001b[A\n",
      "Epoch  2/5:  67%|██████▋   | 751/1114 [00:06<00:03, 98.76batches/s]\u001b[A\n",
      "Epoch  2/5:  72%|███████▏  | 801/1114 [00:07<00:03, 103.70batches/s]\u001b[A\n",
      "Epoch  2/5:  76%|███████▋  | 851/1114 [00:07<00:02, 108.00batches/s]\u001b[A\n",
      "Epoch  2/5:  81%|████████  | 901/1114 [00:08<00:01, 110.29batches/s]\u001b[A\n",
      "Epoch  2/5:  85%|████████▌ | 951/1114 [00:08<00:01, 114.49batches/s]\u001b[A\n",
      "Epoch  2/5:  90%|████████▉ | 1001/1114 [00:08<00:00, 115.07batches/s]\u001b[A\n",
      "Epoch  2/5:  94%|█████████▍| 1051/1114 [00:09<00:00, 115.28batches/s]\u001b[A\n",
      "Epoch  2/5:  99%|█████████▉| 1101/1114 [00:09<00:00, 115.07batches/s]\u001b[A\n",
      "Epoch  2/5: 100%|██████████| 1114/1114 [00:09<00:00, 113.70batches/s]\u001b[A\n",
      "Epoch  3/5:   0%|          | 0/1114 [00:00<?, ?batches/s]\u001b[A\n",
      "Epoch  3/5:   0%|          | 1/1114 [00:00<06:19,  2.93batches/s]\u001b[A\n",
      "Epoch  3/5:   5%|▍         | 51/1114 [00:00<04:16,  4.14batches/s]\u001b[A\n",
      "Epoch  3/5:   9%|▉         | 101/1114 [00:01<02:53,  5.83batches/s]\u001b[A\n",
      "Epoch  3/5:  14%|█▎        | 151/1114 [00:01<01:58,  8.15batches/s]\u001b[A\n",
      "Epoch  3/5:  18%|█▊        | 201/1114 [00:02<01:20, 11.29batches/s]\u001b[A\n",
      "Epoch  3/5:  23%|██▎       | 251/1114 [00:02<00:55, 15.48batches/s]\u001b[A\n",
      "Epoch  3/5:  27%|██▋       | 301/1114 [00:02<00:38, 20.92batches/s]\u001b[A\n",
      "Epoch  3/5:  32%|███▏      | 351/1114 [00:03<00:27, 27.73batches/s]\u001b[A\n",
      "Epoch  3/5:  36%|███▌      | 401/1114 [00:03<00:19, 35.90batches/s]\u001b[A\n",
      "Epoch  3/5:  40%|████      | 451/1114 [00:04<00:14, 45.27batches/s]\u001b[A\n",
      "Epoch  3/5:  45%|████▍     | 501/1114 [00:04<00:11, 55.34batches/s]\u001b[A\n",
      "Epoch  3/5:  49%|████▉     | 551/1114 [00:05<00:08, 65.66batches/s]\u001b[A\n",
      "Epoch  3/5:  54%|█████▍    | 601/1114 [00:05<00:06, 75.42batches/s]\u001b[A\n",
      "Epoch  3/5:  58%|█████▊    | 651/1114 [00:05<00:05, 84.13batches/s]\u001b[A\n",
      "Epoch  3/5:  63%|██████▎   | 701/1114 [00:06<00:04, 91.94batches/s]\u001b[A\n",
      "Epoch  3/5:  67%|██████▋   | 751/1114 [00:06<00:03, 97.98batches/s]\u001b[A\n",
      "Epoch  3/5:  72%|███████▏  | 801/1114 [00:07<00:03, 102.67batches/s]\u001b[A\n",
      "Epoch  3/5:  76%|███████▋  | 851/1114 [00:07<00:02, 106.05batches/s]\u001b[A\n",
      "Epoch  3/5:  81%|████████  | 901/1114 [00:08<00:01, 108.66batches/s]\u001b[A\n",
      "Epoch  3/5:  85%|████████▌ | 951/1114 [00:08<00:01, 110.53batches/s]\u001b[A\n",
      "Epoch  3/5:  90%|████████▉ | 1001/1114 [00:08<00:01, 112.19batches/s]\u001b[A\n",
      "Epoch  3/5:  94%|█████████▍| 1051/1114 [00:09<00:00, 113.32batches/s]\u001b[A\n",
      "Epoch  3/5:  99%|█████████▉| 1101/1114 [00:09<00:00, 114.24batches/s]\u001b[A\n",
      "Epoch  3/5: 100%|██████████| 1114/1114 [00:09<00:00, 112.69batches/s]\u001b[A\n",
      "Epoch  4/5:   0%|          | 0/1114 [00:00<?, ?batches/s]\u001b[A\n",
      "Epoch  4/5:   0%|          | 1/1114 [00:00<06:18,  2.94batches/s]\u001b[A\n",
      "Epoch  4/5:   5%|▍         | 51/1114 [00:00<04:15,  4.16batches/s]\u001b[A\n",
      "Epoch  4/5:   9%|▉         | 101/1114 [00:01<02:53,  5.85batches/s]\u001b[A\n",
      "Epoch  4/5:  14%|█▎        | 151/1114 [00:01<01:57,  8.18batches/s]\u001b[A\n",
      "Epoch  4/5:  18%|█▊        | 201/1114 [00:02<01:20, 11.34batches/s]\u001b[A\n",
      "Epoch  4/5:  23%|██▎       | 251/1114 [00:02<00:55, 15.55batches/s]\u001b[A\n",
      "Epoch  4/5:  27%|██▋       | 301/1114 [00:02<00:38, 21.01batches/s]\u001b[A\n",
      "Epoch  4/5:  32%|███▏      | 351/1114 [00:03<00:27, 27.84batches/s]\u001b[A\n",
      "Epoch  4/5:  36%|███▌      | 401/1114 [00:03<00:19, 36.02batches/s]\u001b[A\n",
      "Epoch  4/5:  40%|████      | 451/1114 [00:04<00:14, 45.37batches/s]\u001b[A\n",
      "Epoch  4/5:  45%|████▍     | 501/1114 [00:04<00:11, 55.52batches/s]\u001b[A\n",
      "Epoch  4/5:  49%|████▉     | 551/1114 [00:05<00:08, 66.00batches/s]\u001b[A\n",
      "Epoch  4/5:  54%|█████▍    | 601/1114 [00:05<00:06, 75.71batches/s]\u001b[A\n",
      "Epoch  4/5:  58%|█████▊    | 651/1114 [00:05<00:05, 84.82batches/s]\u001b[A\n",
      "Epoch  4/5:  63%|██████▎   | 701/1114 [00:06<00:04, 92.40batches/s]\u001b[A\n",
      "Epoch  4/5:  67%|██████▋   | 751/1114 [00:06<00:03, 98.28batches/s]\u001b[A\n",
      "Epoch  4/5:  72%|███████▏  | 801/1114 [00:07<00:03, 102.72batches/s]\u001b[A\n",
      "Epoch  4/5:  76%|███████▋  | 851/1114 [00:07<00:02, 106.14batches/s]\u001b[A\n",
      "Epoch  4/5:  81%|████████  | 901/1114 [00:08<00:01, 108.71batches/s]\u001b[A\n",
      "Epoch  4/5:  85%|████████▌ | 951/1114 [00:08<00:01, 110.69batches/s]\u001b[A\n",
      "Epoch  4/5:  90%|████████▉ | 1001/1114 [00:08<00:01, 111.95batches/s]\u001b[A\n",
      "Epoch  4/5:  94%|█████████▍| 1051/1114 [00:09<00:00, 113.03batches/s]\u001b[A\n",
      "Epoch  4/5:  99%|█████████▉| 1101/1114 [00:09<00:00, 113.72batches/s]\u001b[A\n",
      "Epoch  4/5: 100%|██████████| 1114/1114 [00:09<00:00, 112.68batches/s]\u001b[A\n",
      "Epoch  5/5:   0%|          | 0/1114 [00:00<?, ?batches/s]\u001b[A\n",
      "Epoch  5/5:   0%|          | 1/1114 [00:00<06:07,  3.03batches/s]\u001b[A\n",
      "Epoch  5/5:   5%|▍         | 51/1114 [00:00<04:08,  4.28batches/s]\u001b[A\n",
      "Epoch  5/5:   9%|▉         | 101/1114 [00:01<02:48,  6.02batches/s]\u001b[A\n",
      "Epoch  5/5:  14%|█▎        | 151/1114 [00:01<01:54,  8.41batches/s]\u001b[A\n",
      "Epoch  5/5:  18%|█▊        | 201/1114 [00:02<01:18, 11.66batches/s]\u001b[A\n",
      "Epoch  5/5:  23%|██▎       | 251/1114 [00:02<00:54, 15.97batches/s]\u001b[A\n",
      "Epoch  5/5:  27%|██▋       | 301/1114 [00:02<00:37, 21.52batches/s]\u001b[A\n",
      "Epoch  5/5:  32%|███▏      | 351/1114 [00:03<00:26, 28.51batches/s]\u001b[A\n",
      "Epoch  5/5:  36%|███▌      | 401/1114 [00:03<00:19, 37.03batches/s]\u001b[A\n",
      "Epoch  5/5:  40%|████      | 451/1114 [00:04<00:14, 46.50batches/s]\u001b[A\n",
      "Epoch  5/5:  45%|████▍     | 501/1114 [00:04<00:10, 56.65batches/s]\u001b[A\n",
      "Epoch  5/5:  49%|████▉     | 551/1114 [00:05<00:08, 66.83batches/s]\u001b[A\n",
      "Epoch  5/5:  54%|█████▍    | 601/1114 [00:05<00:06, 76.34batches/s]\u001b[A\n",
      "Epoch  5/5:  58%|█████▊    | 651/1114 [00:05<00:05, 85.22batches/s]\u001b[A\n",
      "Epoch  5/5:  63%|██████▎   | 701/1114 [00:06<00:04, 92.85batches/s]\u001b[A\n",
      "Epoch  5/5:  67%|██████▋   | 751/1114 [00:06<00:03, 98.52batches/s]\u001b[A\n",
      "Epoch  5/5:  72%|███████▏  | 801/1114 [00:07<00:03, 103.12batches/s]\u001b[A\n",
      "Epoch  5/5:  76%|███████▋  | 851/1114 [00:07<00:02, 106.58batches/s]\u001b[A\n",
      "Epoch  5/5:  81%|████████  | 901/1114 [00:08<00:01, 109.01batches/s]\u001b[A\n",
      "Epoch  5/5:  85%|████████▌ | 951/1114 [00:08<00:01, 111.02batches/s]\u001b[A\n",
      "Epoch  5/5:  90%|████████▉ | 1001/1114 [00:08<00:00, 114.02batches/s]\u001b[A\n",
      "Epoch  5/5:  94%|█████████▍| 1051/1114 [00:09<00:00, 115.63batches/s]\u001b[A\n",
      "Epoch  5/5:  99%|█████████▉| 1101/1114 [00:09<00:00, 115.52batches/s]\u001b[A\n",
      "Epoch  5/5: 100%|██████████| 1114/1114 [00:09<00:00, 113.78batches/s]\u001b[A"
     ]
    },
    {
     "data": {
      "image/png": "[encoded data removed]",
      "text/plain": [
       "<matplotlib.figure.Figure at 0x7f20ca04c898>"
      ]
     },
     "metadata": {},
     "output_type": "display_data"
    },
    {
     "name": "stdout",
     "output_type": "stream",
     "text": [
      "Validation accuracy at 0.7130666375160217\n"
     ]
    }
   ],
   "source": [
    "import sys\n",
    "for learning_rate in (0.8, 0.5, 0.1, 0.05, 0.01):\n",
    "    sys.stderr.write(\"Epochs: 1 Learning Rate: %s\\n\" % learning_rate)\n",
    "    train(1, learning_rate)\n",
    "    sys.stdout.flush()\n",
    "    sys.stderr.flush()\n",
    "\n",
    "for epochs in (1, 2, 3, 4, 5):\n",
    "    sys.stderr.write(\"Epochs: %s Learning Rate: 0.2\\n\" % epochs)\n",
    "    train(epochs, 0.2)\n",
    "    sys.stdout.flush()\n",
    "    sys.stderr.flush()"
   ]
  },
  {
   "cell_type": "code",
   "execution_count": 25,
   "metadata": {
    "collapsed": false
   },
   "outputs": [
    {
     "name": "stderr",
     "output_type": "stream",
     "text": [
      "\n",
      "Epoch  1/4:   0%|          | 0/1114 [00:00<?, ?batches/s]\u001b[A\n",
      "Epoch  1/4:   0%|          | 1/1114 [00:00<06:40,  2.78batches/s]\u001b[A\n",
      "Epoch  1/4:   4%|▍         | 50/1114 [00:00<04:28,  3.96batches/s]\u001b[A\n",
      "Epoch  1/4:   6%|▌         | 65/1114 [00:00<03:13,  5.43batches/s]\u001b[A\n",
      "Epoch  1/4:   9%|▉         | 101/1114 [00:01<02:14,  7.55batches/s]\u001b[A\n",
      "Epoch  1/4:  14%|█▎        | 151/1114 [00:01<01:31, 10.49batches/s]\u001b[A\n",
      "Epoch  1/4:  18%|█▊        | 201/1114 [00:02<01:03, 14.43batches/s]\u001b[A\n",
      "Epoch  1/4:  23%|██▎       | 251/1114 [00:02<00:44, 19.57batches/s]\u001b[A\n",
      "Epoch  1/4:  27%|██▋       | 301/1114 [00:02<00:31, 26.05batches/s]\u001b[A\n",
      "Epoch  1/4:  32%|███▏      | 351/1114 [00:03<00:22, 33.94batches/s]\u001b[A\n",
      "Epoch  1/4:  36%|███▌      | 401/1114 [00:03<00:16, 43.07batches/s]\u001b[A\n",
      "Epoch  1/4:  40%|████      | 451/1114 [00:04<00:12, 53.14batches/s]\u001b[A\n",
      "Epoch  1/4:  45%|████▍     | 501/1114 [00:04<00:09, 63.78batches/s]\u001b[A\n",
      "Epoch  1/4:  49%|████▉     | 551/1114 [00:05<00:07, 73.90batches/s]\u001b[A\n",
      "Epoch  1/4:  54%|█████▍    | 601/1114 [00:05<00:06, 82.89batches/s]\u001b[A\n",
      "Epoch  1/4:  58%|█████▊    | 651/1114 [00:05<00:05, 90.35batches/s]\u001b[A\n",
      "Epoch  1/4:  63%|██████▎   | 701/1114 [00:06<00:04, 96.57batches/s]\u001b[A\n",
      "Epoch  1/4:  67%|██████▋   | 751/1114 [00:06<00:03, 101.49batches/s]\u001b[A\n",
      "Epoch  1/4:  72%|███████▏  | 801/1114 [00:07<00:02, 105.27batches/s]\u001b[A\n",
      "Epoch  1/4:  76%|███████▋  | 851/1114 [00:07<00:02, 108.11batches/s]\u001b[A\n",
      "Epoch  1/4:  81%|████████  | 901/1114 [00:08<00:01, 110.16batches/s]\u001b[A\n",
      "Epoch  1/4:  85%|████████▌ | 951/1114 [00:08<00:01, 111.80batches/s]\u001b[A\n",
      "Epoch  1/4:  90%|████████▉ | 1001/1114 [00:09<00:01, 112.66batches/s]\u001b[A\n",
      "Epoch  1/4:  94%|█████████▍| 1051/1114 [00:09<00:00, 113.03batches/s]\u001b[A\n",
      "Epoch  1/4:  99%|█████████▉| 1101/1114 [00:09<00:00, 113.72batches/s]\u001b[A\n",
      "Epoch  1/4: 100%|██████████| 1114/1114 [00:09<00:00, 112.31batches/s]\u001b[A\n",
      "Epoch  2/4:   0%|          | 0/1114 [00:00<?, ?batches/s]\u001b[A\n",
      "Epoch  2/4:   0%|          | 1/1114 [00:00<06:18,  2.94batches/s]\u001b[A\n",
      "Epoch  2/4:   5%|▍         | 51/1114 [00:00<04:15,  4.16batches/s]\u001b[A\n",
      "Epoch  2/4:   9%|▉         | 101/1114 [00:01<02:53,  5.85batches/s]\u001b[A\n",
      "Epoch  2/4:  14%|█▎        | 151/1114 [00:01<01:57,  8.17batches/s]\u001b[A\n",
      "Epoch  2/4:  18%|█▊        | 201/1114 [00:02<01:20, 11.33batches/s]\u001b[A\n",
      "Epoch  2/4:  23%|██▎       | 251/1114 [00:02<00:55, 15.57batches/s]\u001b[A\n",
      "Epoch  2/4:  27%|██▋       | 301/1114 [00:02<00:38, 21.03batches/s]\u001b[A\n",
      "Epoch  2/4:  32%|███▏      | 351/1114 [00:03<00:27, 27.85batches/s]\u001b[A\n",
      "Epoch  2/4:  36%|███▌      | 401/1114 [00:03<00:19, 36.07batches/s]\u001b[A\n",
      "Epoch  2/4:  40%|████      | 451/1114 [00:04<00:14, 45.53batches/s]\u001b[A\n",
      "Epoch  2/4:  45%|████▍     | 501/1114 [00:04<00:11, 55.70batches/s]\u001b[A\n",
      "Epoch  2/4:  49%|████▉     | 551/1114 [00:05<00:08, 66.05batches/s]\u001b[A\n",
      "Epoch  2/4:  54%|█████▍    | 601/1114 [00:05<00:06, 75.81batches/s]\u001b[A\n",
      "Epoch  2/4:  58%|█████▊    | 651/1114 [00:05<00:05, 84.44batches/s]\u001b[A\n",
      "Epoch  2/4:  63%|██████▎   | 701/1114 [00:06<00:04, 91.85batches/s]\u001b[A\n",
      "Epoch  2/4:  67%|██████▋   | 751/1114 [00:06<00:03, 97.83batches/s]\u001b[A\n",
      "Epoch  2/4:  72%|███████▏  | 801/1114 [00:07<00:03, 102.60batches/s]\u001b[A\n",
      "Epoch  2/4:  76%|███████▋  | 851/1114 [00:07<00:02, 106.55batches/s]\u001b[A\n",
      "Epoch  2/4:  81%|████████  | 901/1114 [00:08<00:01, 110.34batches/s]\u001b[A\n",
      "Epoch  2/4:  85%|████████▌ | 951/1114 [00:08<00:01, 111.80batches/s]\u001b[A\n",
      "Epoch  2/4:  90%|████████▉ | 1001/1114 [00:08<00:01, 112.79batches/s]\u001b[A\n",
      "Epoch  2/4:  94%|█████████▍| 1051/1114 [00:09<00:00, 113.33batches/s]\u001b[A\n",
      "Epoch  2/4:  99%|█████████▉| 1101/1114 [00:09<00:00, 113.85batches/s]\u001b[A\n",
      "Epoch  2/4: 100%|██████████| 1114/1114 [00:09<00:00, 113.16batches/s]\u001b[A\n",
      "Epoch  3/4:   0%|          | 0/1114 [00:00<?, ?batches/s]\u001b[A\n",
      "Epoch  3/4:   0%|          | 1/1114 [00:00<06:17,  2.94batches/s]\u001b[A\n",
      "Epoch  3/4:   5%|▍         | 51/1114 [00:00<04:15,  4.16batches/s]\u001b[A\n",
      "Epoch  3/4:   9%|▉         | 101/1114 [00:01<02:53,  5.85batches/s]\u001b[A\n",
      "Epoch  3/4:  14%|█▎        | 151/1114 [00:01<01:57,  8.19batches/s]\u001b[A\n",
      "Epoch  3/4:  18%|█▊        | 201/1114 [00:02<01:20, 11.35batches/s]\u001b[A\n",
      "Epoch  3/4:  23%|██▎       | 251/1114 [00:02<00:55, 15.55batches/s]\u001b[A\n",
      "Epoch  3/4:  27%|██▋       | 301/1114 [00:02<00:38, 20.99batches/s]\u001b[A\n",
      "Epoch  3/4:  32%|███▏      | 351/1114 [00:03<00:27, 27.82batches/s]\u001b[A\n",
      "Epoch  3/4:  36%|███▌      | 401/1114 [00:03<00:19, 36.01batches/s]\u001b[A\n",
      "Epoch  3/4:  40%|████      | 451/1114 [00:04<00:14, 45.45batches/s]\u001b[A\n",
      "Epoch  3/4:  45%|████▍     | 501/1114 [00:04<00:11, 55.53batches/s]\u001b[A\n",
      "Epoch  3/4:  49%|████▉     | 551/1114 [00:05<00:08, 65.82batches/s]\u001b[A\n",
      "Epoch  3/4:  54%|█████▍    | 601/1114 [00:05<00:06, 75.91batches/s]\u001b[A\n",
      "Epoch  3/4:  58%|█████▊    | 651/1114 [00:05<00:05, 84.65batches/s]\u001b[A\n",
      "Epoch  3/4:  63%|██████▎   | 701/1114 [00:06<00:04, 91.82batches/s]\u001b[A\n",
      "Epoch  3/4:  67%|██████▋   | 751/1114 [00:06<00:03, 97.55batches/s]\u001b[A\n",
      "Epoch  3/4:  72%|███████▏  | 801/1114 [00:07<00:03, 102.24batches/s]\u001b[A\n",
      "Epoch  3/4:  76%|███████▋  | 851/1114 [00:07<00:02, 105.51batches/s]\u001b[A\n",
      "Epoch  3/4:  81%|████████  | 901/1114 [00:08<00:01, 108.04batches/s]\u001b[A\n",
      "Epoch  3/4:  85%|████████▌ | 951/1114 [00:08<00:01, 110.37batches/s]\u001b[A\n",
      "Epoch  3/4:  90%|████████▉ | 1001/1114 [00:09<00:01, 111.46batches/s]\u001b[A\n",
      "Epoch  3/4:  94%|█████████▍| 1051/1114 [00:09<00:00, 112.64batches/s]\u001b[A\n",
      "Epoch  3/4:  99%|█████████▉| 1101/1114 [00:09<00:00, 113.25batches/s]\u001b[A\n",
      "Epoch  3/4: 100%|██████████| 1114/1114 [00:09<00:00, 112.39batches/s]\u001b[A\n",
      "Epoch  4/4:   0%|          | 0/1114 [00:00<?, ?batches/s]\u001b[A\n",
      "Epoch  4/4:   0%|          | 1/1114 [00:00<06:20,  2.93batches/s]\u001b[A\n",
      "Epoch  4/4:   5%|▍         | 51/1114 [00:00<04:16,  4.14batches/s]\u001b[A\n",
      "Epoch  4/4:   9%|▉         | 101/1114 [00:01<02:53,  5.82batches/s]\u001b[A\n",
      "Epoch  4/4:  14%|█▎        | 151/1114 [00:01<01:58,  8.14batches/s]\u001b[A\n",
      "Epoch  4/4:  18%|█▊        | 201/1114 [00:02<01:20, 11.30batches/s]\u001b[A\n",
      "Epoch  4/4:  23%|██▎       | 251/1114 [00:02<00:55, 15.48batches/s]\u001b[A\n",
      "Epoch  4/4:  27%|██▋       | 301/1114 [00:02<00:38, 20.91batches/s]\u001b[A\n",
      "Epoch  4/4:  32%|███▏      | 351/1114 [00:03<00:27, 27.71batches/s]\u001b[A\n",
      "Epoch  4/4:  36%|███▌      | 401/1114 [00:03<00:19, 35.89batches/s]\u001b[A\n",
      "Epoch  4/4:  40%|████      | 451/1114 [00:04<00:14, 45.24batches/s]\u001b[A\n",
      "Epoch  4/4:  45%|████▍     | 501/1114 [00:04<00:11, 55.37batches/s]\u001b[A\n",
      "Epoch  4/4:  49%|████▉     | 551/1114 [00:05<00:08, 65.64batches/s]\u001b[A\n",
      "Epoch  4/4:  54%|█████▍    | 601/1114 [00:05<00:06, 75.29batches/s]\u001b[A\n",
      "Epoch  4/4:  58%|█████▊    | 651/1114 [00:05<00:05, 84.01batches/s]\u001b[A\n",
      "Epoch  4/4:  63%|██████▎   | 701/1114 [00:06<00:04, 91.57batches/s]\u001b[A\n",
      "Epoch  4/4:  67%|██████▋   | 751/1114 [00:06<00:03, 97.42batches/s]\u001b[A\n",
      "Epoch  4/4:  72%|███████▏  | 801/1114 [00:07<00:03, 102.42batches/s]\u001b[A\n",
      "Epoch  4/4:  76%|███████▋  | 851/1114 [00:07<00:02, 106.03batches/s]\u001b[A\n",
      "Epoch  4/4:  81%|████████  | 901/1114 [00:08<00:01, 108.17batches/s]\u001b[A\n",
      "Epoch  4/4:  85%|████████▌ | 951/1114 [00:08<00:01, 110.41batches/s]\u001b[A\n",
      "Epoch  4/4:  90%|████████▉ | 1001/1114 [00:09<00:01, 111.55batches/s]\u001b[A\n",
      "Epoch  4/4:  94%|█████████▍| 1051/1114 [00:09<00:00, 112.69batches/s]\u001b[A\n",
      "Epoch  4/4:  99%|█████████▉| 1101/1114 [00:09<00:00, 113.41batches/s]\u001b[A\n",
      "Epoch  4/4: 100%|██████████| 1114/1114 [00:09<00:00, 112.43batches/s]\u001b[A"
     ]
    },
    {
     "data": {
      "image/png": "[encoded data removed]",
      "text/plain": [
       "<matplotlib.figure.Figure at 0x7f209c2fe470>"
      ]
     },
     "metadata": {},
     "output_type": "display_data"
    },
    {
     "name": "stdout",
     "output_type": "stream",
     "text": [
      "Validation accuracy at 0.7710666060447693\n"
     ]
    }
   ],
   "source": [
    "optimizer = train(4, 0.1)"
   ]
  },
  {
   "cell_type": "markdown",
   "metadata": {
    "deletable": true,
    "editable": true
   },
   "source": [
    "## Test\n",
    "You're going to test your model against your hold out dataset/testing data.  This will give you a good indicator of how well the model will do in the real world.  You should have a test accuracy of at least 80%."
   ]
  },
  {
   "cell_type": "code",
   "execution_count": 27,
   "metadata": {
    "collapsed": false,
    "deletable": true,
    "editable": true
   },
   "outputs": [
    {
     "name": "stderr",
     "output_type": "stream",
     "text": [
      "\n",
      "Epoch  1/5:   0%|          | 0/1114 [00:00<?, ?batches/s]\u001b[A\n",
      "Epoch  1/5:   3%|▎         | 36/1114 [00:00<00:03, 357.11batches/s]\u001b[A\n",
      "Epoch  1/5:   7%|▋         | 79/1114 [00:00<00:02, 374.53batches/s]\u001b[A\n",
      "Epoch  1/5:  11%|█         | 119/1114 [00:00<00:02, 380.38batches/s]\u001b[A\n",
      "Epoch  1/5:  14%|█▍        | 161/1114 [00:00<00:02, 390.74batches/s]\u001b[A\n",
      "Epoch  1/5:  18%|█▊        | 203/1114 [00:00<00:02, 398.61batches/s]\u001b[A\n",
      "Epoch  1/5:  22%|██▏       | 244/1114 [00:00<00:02, 401.07batches/s]\u001b[A\n",
      "Epoch  1/5:  26%|██▌       | 285/1114 [00:00<00:02, 402.11batches/s]\u001b[A\n",
      "Epoch  1/5:  29%|██▉       | 325/1114 [00:00<00:01, 400.59batches/s]\u001b[A\n",
      "Epoch  1/5:  33%|███▎      | 366/1114 [00:00<00:01, 401.42batches/s]\u001b[A\n",
      "Epoch  1/5:  37%|███▋      | 417/1114 [00:01<00:01, 427.89batches/s]\u001b[A\n",
      "Epoch  1/5:  43%|████▎     | 474/1114 [00:01<00:01, 461.91batches/s]\u001b[A\n",
      "Epoch  1/5:  48%|████▊     | 532/1114 [00:01<00:01, 490.85batches/s]\u001b[A\n",
      "Epoch  1/5:  53%|█████▎    | 589/1114 [00:01<00:01, 512.15batches/s]\u001b[A\n",
      "Epoch  1/5:  58%|█████▊    | 647/1114 [00:01<00:00, 530.64batches/s]\u001b[A\n",
      "Epoch  1/5:  63%|██████▎   | 704/1114 [00:01<00:00, 541.72batches/s]\u001b[A\n",
      "Epoch  1/5:  68%|██████▊   | 762/1114 [00:01<00:00, 550.45batches/s]\u001b[A\n",
      "Epoch  1/5:  74%|███████▎  | 819/1114 [00:01<00:00, 555.98batches/s]\u001b[A\n",
      "Epoch  1/5:  79%|███████▊  | 877/1114 [00:01<00:00, 558.32batches/s]\u001b[A\n",
      "Epoch  1/5:  84%|████████▍ | 936/1114 [00:01<00:00, 567.01batches/s]\u001b[A\n",
      "Epoch  1/5:  89%|████████▉ | 995/1114 [00:02<00:00, 572.52batches/s]\u001b[A\n",
      "Epoch  1/5:  95%|█████████▍| 1053/1114 [00:02<00:00, 567.93batches/s]\u001b[A\n",
      "Epoch  1/5: 100%|█████████▉| 1112/1114 [00:02<00:00, 573.59batches/s]\u001b[A\n",
      "Epoch  1/5: 100%|██████████| 1114/1114 [00:02<00:00, 500.36batches/s]\u001b[A\n",
      "Epoch  2/5:   0%|          | 0/1114 [00:00<?, ?batches/s]\u001b[A\n",
      "Epoch  2/5:   5%|▌         | 58/1114 [00:00<00:01, 573.98batches/s]\u001b[A\n",
      "Epoch  2/5:  10%|█         | 115/1114 [00:00<00:01, 569.82batches/s]\u001b[A\n",
      "Epoch  2/5:  16%|█▌        | 173/1114 [00:00<00:01, 572.81batches/s]\u001b[A\n",
      "Epoch  2/5:  21%|██        | 232/1114 [00:00<00:01, 576.46batches/s]\u001b[A\n",
      "Epoch  2/5:  26%|██▌       | 290/1114 [00:00<00:01, 576.22batches/s]\u001b[A\n",
      "Epoch  2/5:  31%|███       | 348/1114 [00:00<00:01, 575.67batches/s]\u001b[A\n",
      "Epoch  2/5:  36%|███▋      | 406/1114 [00:00<00:01, 576.94batches/s]\u001b[A\n",
      "Epoch  2/5:  42%|████▏     | 465/1114 [00:00<00:01, 577.58batches/s]\u001b[A\n",
      "Epoch  2/5:  47%|████▋     | 523/1114 [00:00<00:01, 576.38batches/s]\u001b[A\n",
      "Epoch  2/5:  52%|█████▏    | 582/1114 [00:01<00:00, 577.75batches/s]\u001b[A\n",
      "Epoch  2/5:  57%|█████▋    | 639/1114 [00:01<00:00, 575.34batches/s]\u001b[A\n",
      "Epoch  2/5:  63%|██████▎   | 698/1114 [00:01<00:00, 578.25batches/s]\u001b[A\n",
      "Epoch  2/5:  68%|██████▊   | 756/1114 [00:01<00:00, 574.29batches/s]\u001b[A\n",
      "Epoch  2/5:  73%|███████▎  | 815/1114 [00:01<00:00, 576.89batches/s]\u001b[A\n",
      "Epoch  2/5:  78%|███████▊  | 874/1114 [00:01<00:00, 579.07batches/s]\u001b[A\n",
      "Epoch  2/5:  84%|████████▎ | 932/1114 [00:01<00:00, 573.46batches/s]\u001b[A\n",
      "Epoch  2/5:  89%|████████▉ | 990/1114 [00:01<00:00, 571.90batches/s]\u001b[A\n",
      "Epoch  2/5:  94%|█████████▍| 1048/1114 [00:01<00:00, 572.41batches/s]\u001b[A\n",
      "Epoch  2/5:  99%|█████████▉| 1107/1114 [00:01<00:00, 574.81batches/s]\u001b[A\n",
      "Epoch  2/5: 100%|██████████| 1114/1114 [00:01<00:00, 575.20batches/s]\u001b[A\n",
      "Epoch  3/5:   0%|          | 0/1114 [00:00<?, ?batches/s]\u001b[A\n",
      "Epoch  3/5:   5%|▌         | 59/1114 [00:00<00:01, 586.73batches/s]\u001b[A\n",
      "Epoch  3/5:  11%|█         | 117/1114 [00:00<00:01, 583.34batches/s]\u001b[A\n",
      "Epoch  3/5:  16%|█▌        | 177/1114 [00:00<00:01, 585.72batches/s]\u001b[A\n",
      "Epoch  3/5:  21%|██        | 234/1114 [00:00<00:01, 578.16batches/s]\u001b[A\n",
      "Epoch  3/5:  26%|██▌       | 291/1114 [00:00<00:01, 574.00batches/s]\u001b[A\n",
      "Epoch  3/5:  31%|███▏      | 349/1114 [00:00<00:01, 573.34batches/s]\u001b[A\n",
      "Epoch  3/5:  36%|███▋      | 406/1114 [00:00<00:01, 571.04batches/s]\u001b[A\n",
      "Epoch  3/5:  41%|████▏     | 462/1114 [00:00<00:01, 566.11batches/s]\u001b[A\n",
      "Epoch  3/5:  47%|████▋     | 520/1114 [00:00<00:01, 569.26batches/s]\u001b[A\n",
      "Epoch  3/5:  52%|█████▏    | 578/1114 [00:01<00:00, 571.87batches/s]\u001b[A\n",
      "Epoch  3/5:  57%|█████▋    | 636/1114 [00:01<00:00, 573.42batches/s]\u001b[A\n",
      "Epoch  3/5:  62%|██████▏   | 694/1114 [00:01<00:00, 573.58batches/s]\u001b[A\n",
      "Epoch  3/5:  68%|██████▊   | 752/1114 [00:01<00:00, 572.58batches/s]\u001b[A\n",
      "Epoch  3/5:  73%|███████▎  | 812/1114 [00:01<00:00, 578.59batches/s]\u001b[A\n",
      "Epoch  3/5:  78%|███████▊  | 871/1114 [00:01<00:00, 581.73batches/s]\u001b[A\n",
      "Epoch  3/5:  83%|████████▎ | 929/1114 [00:01<00:00, 576.85batches/s]\u001b[A\n",
      "Epoch  3/5:  89%|████████▊ | 987/1114 [00:01<00:00, 576.82batches/s]\u001b[A\n",
      "Epoch  3/5:  94%|█████████▍| 1046/1114 [00:01<00:00, 578.19batches/s]\u001b[A\n",
      "Epoch  3/5:  99%|█████████▉| 1105/1114 [00:01<00:00, 579.78batches/s]\u001b[A\n",
      "Epoch  3/5: 100%|██████████| 1114/1114 [00:01<00:00, 575.50batches/s]\u001b[A\n",
      "Epoch  4/5:   0%|          | 0/1114 [00:00<?, ?batches/s]\u001b[A\n",
      "Epoch  4/5:   5%|▌         | 59/1114 [00:00<00:01, 586.14batches/s]\u001b[A\n",
      "Epoch  4/5:  11%|█         | 117/1114 [00:00<00:01, 581.57batches/s]\u001b[A\n",
      "Epoch  4/5:  16%|█▌        | 176/1114 [00:00<00:01, 581.52batches/s]\u001b[A\n",
      "Epoch  4/5:  21%|██        | 235/1114 [00:00<00:01, 581.88batches/s]\u001b[A\n",
      "Epoch  4/5:  26%|██▋       | 295/1114 [00:00<00:01, 584.88batches/s]\u001b[A\n",
      "Epoch  4/5:  32%|███▏      | 352/1114 [00:00<00:01, 577.34batches/s]\u001b[A\n",
      "Epoch  4/5:  37%|███▋      | 410/1114 [00:00<00:01, 576.54batches/s]\u001b[A\n",
      "Epoch  4/5:  42%|████▏     | 468/1114 [00:00<00:01, 576.49batches/s]\u001b[A\n",
      "Epoch  4/5:  47%|████▋     | 526/1114 [00:00<00:01, 576.75batches/s]\u001b[A\n",
      "Epoch  4/5:  52%|█████▏    | 584/1114 [00:01<00:00, 575.56batches/s]\u001b[A\n",
      "Epoch  4/5:  58%|█████▊    | 642/1114 [00:01<00:00, 574.17batches/s]\u001b[A\n",
      "Epoch  4/5:  63%|██████▎   | 700/1114 [00:01<00:00, 575.43batches/s]\u001b[A\n",
      "Epoch  4/5:  68%|██████▊   | 758/1114 [00:01<00:00, 574.37batches/s]\u001b[A\n",
      "Epoch  4/5:  73%|███████▎  | 818/1114 [00:01<00:00, 579.82batches/s]\u001b[A\n",
      "Epoch  4/5:  79%|███████▊  | 876/1114 [00:01<00:00, 579.62batches/s]\u001b[A\n",
      "Epoch  4/5:  84%|████████▍ | 934/1114 [00:01<00:00, 578.51batches/s]\u001b[A\n",
      "Epoch  4/5:  89%|████████▉ | 993/1114 [00:01<00:00, 579.65batches/s]\u001b[A\n",
      "Epoch  4/5:  94%|█████████▍| 1051/1114 [00:01<00:00, 578.47batches/s]\u001b[A\n",
      "Epoch  4/5: 100%|█████████▉| 1109/1114 [00:01<00:00, 578.68batches/s]\u001b[A\n",
      "Epoch  4/5: 100%|██████████| 1114/1114 [00:01<00:00, 577.76batches/s]\u001b[A\n",
      "Epoch  5/5:   0%|          | 0/1114 [00:00<?, ?batches/s]\u001b[A\n",
      "Epoch  5/5:   5%|▌         | 59/1114 [00:00<00:01, 583.88batches/s]\u001b[A\n",
      "Epoch  5/5:  11%|█         | 117/1114 [00:00<00:01, 582.20batches/s]\u001b[A\n",
      "Epoch  5/5:  16%|█▌        | 176/1114 [00:00<00:01, 582.57batches/s]\u001b[A\n",
      "Epoch  5/5:  21%|██        | 234/1114 [00:00<00:01, 580.22batches/s]\u001b[A\n",
      "Epoch  5/5:  26%|██▌       | 292/1114 [00:00<00:01, 577.92batches/s]\u001b[A\n",
      "Epoch  5/5:  32%|███▏      | 351/1114 [00:00<00:01, 580.41batches/s]\u001b[A\n",
      "Epoch  5/5:  37%|███▋      | 410/1114 [00:00<00:01, 581.66batches/s]\u001b[A\n",
      "Epoch  5/5:  42%|████▏     | 469/1114 [00:00<00:01, 582.46batches/s]\u001b[A\n",
      "Epoch  5/5:  47%|████▋     | 527/1114 [00:00<00:01, 580.21batches/s]\u001b[A\n",
      "Epoch  5/5:  52%|█████▏    | 584/1114 [00:01<00:00, 575.15batches/s]\u001b[A\n",
      "Epoch  5/5:  58%|█████▊    | 643/1114 [00:01<00:00, 576.75batches/s]\u001b[A\n",
      "Epoch  5/5:  63%|██████▎   | 703/1114 [00:01<00:00, 581.93batches/s]\u001b[A\n",
      "Epoch  5/5:  68%|██████▊   | 761/1114 [00:01<00:00, 580.75batches/s]\u001b[A\n",
      "Epoch  5/5:  74%|███████▎  | 820/1114 [00:01<00:00, 581.23batches/s]\u001b[A\n",
      "Epoch  5/5:  79%|███████▉  | 878/1114 [00:01<00:00, 580.41batches/s]\u001b[A\n",
      "Epoch  5/5:  84%|████████▍ | 936/1114 [00:01<00:00, 579.27batches/s]\u001b[A\n",
      "Epoch  5/5:  89%|████████▉ | 994/1114 [00:01<00:00, 578.57batches/s]\u001b[A\n",
      "Epoch  5/5:  94%|█████████▍| 1052/1114 [00:01<00:00, 577.88batches/s]\u001b[A\n",
      "Epoch  5/5: 100%|█████████▉| 1112/1114 [00:01<00:00, 582.93batches/s]\u001b[A\n",
      "Epoch  5/5: 100%|██████████| 1114/1114 [00:01<00:00, 579.62batches/s]"
     ]
    },
    {
     "name": "stdout",
     "output_type": "stream",
     "text": [
      "Nice Job! Test Accuracy is 0.8461000919342041\n"
     ]
    },
    {
     "name": "stderr",
     "output_type": "stream",
     "text": [
      "\u001b[A"
     ]
    }
   ],
   "source": [
    "batch_size = 128\n",
    "### DON'T MODIFY ANYTHING BELOW ###\n",
    "# The accuracy measured against the test set\n",
    "test_accuracy = 0.0\n",
    "\n",
    "with tf.Session() as session:\n",
    "    \n",
    "    session.run(init)\n",
    "    batch_count = int(math.ceil(len(train_features)/batch_size))\n",
    "\n",
    "    for epoch_i in range(epochs):\n",
    "        \n",
    "        # Progress bar\n",
    "        batches_pbar = tqdm(range(batch_count), desc='Epoch {:>2}/{}'.format(epoch_i+1, epochs), unit='batches')\n",
    "        \n",
    "        # The training cycle\n",
    "        for batch_i in batches_pbar:\n",
    "            # Get a batch of training features and labels\n",
    "            batch_start = batch_i*batch_size\n",
    "            batch_features = train_features[batch_start:batch_start + batch_size]\n",
    "            batch_labels = train_labels[batch_start:batch_start + batch_size]\n",
    "\n",
    "            # Run optimizer\n",
    "            _ = session.run(optimizer, feed_dict={features: batch_features, labels: batch_labels})\n",
    "\n",
    "        # Check accuracy against Test data\n",
    "        test_accuracy = session.run(accuracy, feed_dict=test_feed_dict)\n",
    "\n",
    "\n",
    "assert test_accuracy >= 0.80, 'Test accuracy at {}, should be equal to or greater than 0.80'.format(test_accuracy)\n",
    "print('Nice Job! Test Accuracy is {}'.format(test_accuracy))"
   ]
  },
  {
   "cell_type": "markdown",
   "metadata": {
    "deletable": true,
    "editable": true
   },
   "source": [
    "# Multiple layers\n",
    "Good job!  You built a one layer TensorFlow network!  However, you might want to build more than one layer.  This is deep learning after all!  In the next section, you will start to satisfy your need for more layers."
   ]
  }
 ],
 "metadata": {
  "anaconda-cloud": {},
  "kernelspec": {
   "display_name": "Python 3",
   "language": "python",
   "name": "python3"
  },
  "language_info": {
   "codemirror_mode": {
    "name": "ipython",
    "version": 3
   },
   "file_extension": ".py",
   "mimetype": "text/x-python",
   "name": "python",
   "nbconvert_exporter": "python",
   "pygments_lexer": "ipython3",
   "version": "3.5.2"
  },
  "widgets": {
   "state": {},
   "version": "1.1.2"
  }
 },
 "nbformat": 4,
 "nbformat_minor": 0
}
